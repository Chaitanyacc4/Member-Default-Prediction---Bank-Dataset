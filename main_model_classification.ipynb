{
 "cells": [
  {
   "cell_type": "markdown",
   "metadata": {},
   "source": [
    "# aim: To build an ML model and predict the probability that a member will default, of the bank Indessa."
   ]
  },
  {
   "cell_type": "markdown",
   "metadata": {},
   "source": [
    "Approach: Supervised ML - \n",
    "    Binary Classification [Default or Not Default] or Probabilistic Regression [Probability to Default = range(0, 1)]-Extensive Case\n",
    "\n",
    "Selected Approach: Binary Classification [Default or Not Default]\n",
    "\n",
    "Available Data: Train_indessa.csv => Split into Train and Test Datasets\n",
    "                Test_indessa.csv => Eventually apply the model on this Dataset and return the submission.csv\n",
    "                \n",
    "Recommended ML Models (Supervised): \n",
    "    Decision Tree\n",
    "    Random Forest\n",
    "    Logistic Regression\n",
    "    XGBoost\n",
    "    SVM\n",
    "    \n",
    "Further Improvements: \n",
    "    Ensemble Models\n",
    "    Neural Networks\n",
    "\n",
    "__\n",
    "\n",
    "Model Input: A bank member object (with a set of columns) \n",
    "Model Output: member_id (tag), loan_status (predicted)\n",
    "\n"
   ]
  },
  {
   "cell_type": "code",
   "execution_count": 3,
   "metadata": {},
   "outputs": [],
   "source": [
    "import pandas as pd\n",
    "import sklearn\n",
    "import numpy as np\n",
    "import matplotlib.pyplot as plt\n",
    "import seaborn as sns"
   ]
  },
  {
   "cell_type": "code",
   "execution_count": 4,
   "metadata": {},
   "outputs": [],
   "source": [
    "df = pd.read_csv('train_indessa.csv')"
   ]
  },
  {
   "cell_type": "markdown",
   "metadata": {},
   "source": [
    "# EDA"
   ]
  },
  {
   "cell_type": "code",
   "execution_count": 5,
   "metadata": {},
   "outputs": [
    {
     "name": "stdout",
     "output_type": "stream",
     "text": [
      "(532428, 45)\n",
      "Index(['member_id', 'loan_amnt', 'funded_amnt', 'funded_amnt_inv', 'term',\n",
      "       'batch_enrolled', 'int_rate', 'grade', 'sub_grade', 'emp_title',\n",
      "       'emp_length', 'home_ownership', 'annual_inc', 'verification_status',\n",
      "       'pymnt_plan', 'desc', 'purpose', 'title', 'zip_code', 'addr_state',\n",
      "       'dti', 'delinq_2yrs', 'inq_last_6mths', 'mths_since_last_delinq',\n",
      "       'mths_since_last_record', 'open_acc', 'pub_rec', 'revol_bal',\n",
      "       'revol_util', 'total_acc', 'initial_list_status', 'total_rec_int',\n",
      "       'total_rec_late_fee', 'recoveries', 'collection_recovery_fee',\n",
      "       'collections_12_mths_ex_med', 'mths_since_last_major_derog',\n",
      "       'application_type', 'verification_status_joint', 'last_week_pay',\n",
      "       'acc_now_delinq', 'tot_coll_amt', 'tot_cur_bal', 'total_rev_hi_lim',\n",
      "       'loan_status'],\n",
      "      dtype='object')\n",
      "<class 'pandas.core.frame.DataFrame'>\n",
      "RangeIndex: 532428 entries, 0 to 532427\n",
      "Data columns (total 45 columns):\n",
      " #   Column                       Non-Null Count   Dtype  \n",
      "---  ------                       --------------   -----  \n",
      " 0   member_id                    532428 non-null  int64  \n",
      " 1   loan_amnt                    532428 non-null  int64  \n",
      " 2   funded_amnt                  532428 non-null  int64  \n",
      " 3   funded_amnt_inv              532428 non-null  float64\n",
      " 4   term                         532428 non-null  object \n",
      " 5   batch_enrolled               447279 non-null  object \n",
      " 6   int_rate                     532428 non-null  float64\n",
      " 7   grade                        532428 non-null  object \n",
      " 8   sub_grade                    532428 non-null  object \n",
      " 9   emp_title                    501595 non-null  object \n",
      " 10  emp_length                   505537 non-null  object \n",
      " 11  home_ownership               532428 non-null  object \n",
      " 12  annual_inc                   532425 non-null  float64\n",
      " 13  verification_status          532428 non-null  object \n",
      " 14  pymnt_plan                   532428 non-null  object \n",
      " 15  desc                         75599 non-null   object \n",
      " 16  purpose                      532428 non-null  object \n",
      " 17  title                        532338 non-null  object \n",
      " 18  zip_code                     532428 non-null  object \n",
      " 19  addr_state                   532428 non-null  object \n",
      " 20  dti                          532428 non-null  float64\n",
      " 21  delinq_2yrs                  532412 non-null  float64\n",
      " 22  inq_last_6mths               532412 non-null  float64\n",
      " 23  mths_since_last_delinq       259874 non-null  float64\n",
      " 24  mths_since_last_record       82123 non-null   float64\n",
      " 25  open_acc                     532412 non-null  float64\n",
      " 26  pub_rec                      532412 non-null  float64\n",
      " 27  revol_bal                    532428 non-null  float64\n",
      " 28  revol_util                   532141 non-null  float64\n",
      " 29  total_acc                    532412 non-null  float64\n",
      " 30  initial_list_status          532428 non-null  object \n",
      " 31  total_rec_int                532428 non-null  float64\n",
      " 32  total_rec_late_fee           532428 non-null  float64\n",
      " 33  recoveries                   532428 non-null  float64\n",
      " 34  collection_recovery_fee      532428 non-null  float64\n",
      " 35  collections_12_mths_ex_med   532333 non-null  float64\n",
      " 36  mths_since_last_major_derog  132980 non-null  float64\n",
      " 37  application_type             532428 non-null  object \n",
      " 38  verification_status_joint    305 non-null     object \n",
      " 39  last_week_pay                532428 non-null  object \n",
      " 40  acc_now_delinq               532412 non-null  float64\n",
      " 41  tot_coll_amt                 490424 non-null  float64\n",
      " 42  tot_cur_bal                  490424 non-null  float64\n",
      " 43  total_rev_hi_lim             490424 non-null  float64\n",
      " 44  loan_status                  532428 non-null  int64  \n",
      "dtypes: float64(23), int64(4), object(18)\n",
      "memory usage: 182.8+ MB\n",
      "None\n"
     ]
    }
   ],
   "source": [
    "#print(train_df.head(10))\n",
    "print(df.shape)\n",
    "print(df.columns)\n",
    "print(df.info())"
   ]
  },
  {
   "cell_type": "code",
   "execution_count": 6,
   "metadata": {},
   "outputs": [
    {
     "data": {
      "text/html": [
       "<div>\n",
       "<style scoped>\n",
       "    .dataframe tbody tr th:only-of-type {\n",
       "        vertical-align: middle;\n",
       "    }\n",
       "\n",
       "    .dataframe tbody tr th {\n",
       "        vertical-align: top;\n",
       "    }\n",
       "\n",
       "    .dataframe thead th {\n",
       "        text-align: right;\n",
       "    }\n",
       "</style>\n",
       "<table border=\"1\" class=\"dataframe\">\n",
       "  <thead>\n",
       "    <tr style=\"text-align: right;\">\n",
       "      <th></th>\n",
       "      <th>term</th>\n",
       "      <th>batch_enrolled</th>\n",
       "      <th>grade</th>\n",
       "      <th>sub_grade</th>\n",
       "      <th>emp_title</th>\n",
       "      <th>emp_length</th>\n",
       "      <th>home_ownership</th>\n",
       "      <th>verification_status</th>\n",
       "      <th>pymnt_plan</th>\n",
       "      <th>desc</th>\n",
       "      <th>purpose</th>\n",
       "      <th>title</th>\n",
       "      <th>zip_code</th>\n",
       "      <th>addr_state</th>\n",
       "      <th>initial_list_status</th>\n",
       "      <th>application_type</th>\n",
       "      <th>verification_status_joint</th>\n",
       "      <th>last_week_pay</th>\n",
       "    </tr>\n",
       "  </thead>\n",
       "  <tbody>\n",
       "    <tr>\n",
       "      <th>count</th>\n",
       "      <td>532428</td>\n",
       "      <td>447279</td>\n",
       "      <td>532428</td>\n",
       "      <td>532428</td>\n",
       "      <td>501595</td>\n",
       "      <td>505537</td>\n",
       "      <td>532428</td>\n",
       "      <td>532428</td>\n",
       "      <td>532428</td>\n",
       "      <td>75599</td>\n",
       "      <td>532428</td>\n",
       "      <td>532338</td>\n",
       "      <td>532428</td>\n",
       "      <td>532428</td>\n",
       "      <td>532428</td>\n",
       "      <td>532428</td>\n",
       "      <td>305</td>\n",
       "      <td>532428</td>\n",
       "    </tr>\n",
       "    <tr>\n",
       "      <th>unique</th>\n",
       "      <td>2</td>\n",
       "      <td>104</td>\n",
       "      <td>7</td>\n",
       "      <td>35</td>\n",
       "      <td>190124</td>\n",
       "      <td>11</td>\n",
       "      <td>6</td>\n",
       "      <td>3</td>\n",
       "      <td>2</td>\n",
       "      <td>70638</td>\n",
       "      <td>14</td>\n",
       "      <td>39693</td>\n",
       "      <td>917</td>\n",
       "      <td>51</td>\n",
       "      <td>2</td>\n",
       "      <td>2</td>\n",
       "      <td>3</td>\n",
       "      <td>98</td>\n",
       "    </tr>\n",
       "    <tr>\n",
       "      <th>top</th>\n",
       "      <td>36 months</td>\n",
       "      <td></td>\n",
       "      <td>B</td>\n",
       "      <td>B3</td>\n",
       "      <td>Teacher</td>\n",
       "      <td>10+ years</td>\n",
       "      <td>MORTGAGE</td>\n",
       "      <td>Source Verified</td>\n",
       "      <td>n</td>\n",
       "      <td>&gt; Debt consolidation&lt;br&gt;</td>\n",
       "      <td>debt_consolidation</td>\n",
       "      <td>Debt consolidation</td>\n",
       "      <td>945xx</td>\n",
       "      <td>CA</td>\n",
       "      <td>f</td>\n",
       "      <td>INDIVIDUAL</td>\n",
       "      <td>Not Verified</td>\n",
       "      <td>13th week</td>\n",
       "    </tr>\n",
       "    <tr>\n",
       "      <th>freq</th>\n",
       "      <td>372793</td>\n",
       "      <td>106079</td>\n",
       "      <td>152713</td>\n",
       "      <td>33844</td>\n",
       "      <td>8280</td>\n",
       "      <td>175105</td>\n",
       "      <td>265940</td>\n",
       "      <td>197750</td>\n",
       "      <td>532420</td>\n",
       "      <td>576</td>\n",
       "      <td>314989</td>\n",
       "      <td>248967</td>\n",
       "      <td>5845</td>\n",
       "      <td>77911</td>\n",
       "      <td>274018</td>\n",
       "      <td>532123</td>\n",
       "      <td>170</td>\n",
       "      <td>30333</td>\n",
       "    </tr>\n",
       "  </tbody>\n",
       "</table>\n",
       "</div>"
      ],
      "text/plain": [
       "             term batch_enrolled   grade sub_grade emp_title emp_length  \\\n",
       "count      532428         447279  532428    532428    501595     505537   \n",
       "unique          2            104       7        35    190124         11   \n",
       "top     36 months                      B        B3   Teacher  10+ years   \n",
       "freq       372793         106079  152713     33844      8280     175105   \n",
       "\n",
       "       home_ownership verification_status pymnt_plan  \\\n",
       "count          532428              532428     532428   \n",
       "unique              6                   3          2   \n",
       "top          MORTGAGE     Source Verified          n   \n",
       "freq           265940              197750     532420   \n",
       "\n",
       "                            desc             purpose               title  \\\n",
       "count                      75599              532428              532338   \n",
       "unique                     70638                  14               39693   \n",
       "top     > Debt consolidation<br>  debt_consolidation  Debt consolidation   \n",
       "freq                         576              314989              248967   \n",
       "\n",
       "       zip_code addr_state initial_list_status application_type  \\\n",
       "count    532428     532428              532428           532428   \n",
       "unique      917         51                   2                2   \n",
       "top       945xx         CA                   f       INDIVIDUAL   \n",
       "freq       5845      77911              274018           532123   \n",
       "\n",
       "       verification_status_joint last_week_pay  \n",
       "count                        305        532428  \n",
       "unique                         3            98  \n",
       "top                 Not Verified     13th week  \n",
       "freq                         170         30333  "
      ]
     },
     "execution_count": 6,
     "metadata": {},
     "output_type": "execute_result"
    }
   ],
   "source": [
    "#df['loan_status'] = df['loan_status'].astype('int64')\n",
    "\n",
    "df.describe(include=['object'])"
   ]
  },
  {
   "cell_type": "code",
   "execution_count": 7,
   "metadata": {},
   "outputs": [
    {
     "data": {
      "text/plain": [
       "0    406601\n",
       "1    125827\n",
       "Name: loan_status, dtype: int64"
      ]
     },
     "execution_count": 7,
     "metadata": {},
     "output_type": "execute_result"
    }
   ],
   "source": [
    "df['loan_status'].value_counts()"
   ]
  },
  {
   "cell_type": "code",
   "execution_count": 8,
   "metadata": {},
   "outputs": [
    {
     "data": {
      "text/plain": [
       "0    0.763673\n",
       "1    0.236327\n",
       "Name: loan_status, dtype: float64"
      ]
     },
     "execution_count": 8,
     "metadata": {},
     "output_type": "execute_result"
    }
   ],
   "source": [
    "df['loan_status'].value_counts(normalize=True)"
   ]
  },
  {
   "cell_type": "code",
   "execution_count": 7,
   "metadata": {},
   "outputs": [],
   "source": [
    "#Average values of numerical features for loan default members\n",
    "#df[df['loan_status'] == 1].mean()"
   ]
  },
  {
   "cell_type": "code",
   "execution_count": null,
   "metadata": {},
   "outputs": [
    {
     "ename": "KeyboardInterrupt",
     "evalue": "",
     "output_type": "error",
     "traceback": [
      "\u001b[1;31m---------------------------------------------------------------------------\u001b[0m",
      "\u001b[1;31mKeyboardInterrupt\u001b[0m                         Traceback (most recent call last)",
      "\u001b[1;32m<ipython-input-8-e0b07b2c8f3a>\u001b[0m in \u001b[0;36m<module>\u001b[1;34m\u001b[0m\n\u001b[1;32m----> 1\u001b[1;33m \u001b[0msns\u001b[0m\u001b[1;33m.\u001b[0m\u001b[0mpairplot\u001b[0m\u001b[1;33m(\u001b[0m\u001b[0mdf\u001b[0m\u001b[1;33m)\u001b[0m\u001b[1;33m\u001b[0m\u001b[1;33m\u001b[0m\u001b[0m\n\u001b[0m\u001b[0;32m      2\u001b[0m \u001b[0mplt\u001b[0m\u001b[1;33m.\u001b[0m\u001b[0mshow\u001b[0m\u001b[1;33m(\u001b[0m\u001b[1;33m)\u001b[0m\u001b[1;33m\u001b[0m\u001b[1;33m\u001b[0m\u001b[0m\n",
      "\u001b[1;32mD:\\Installation_deck\\AnaConDa\\lib\\site-packages\\seaborn\\_decorators.py\u001b[0m in \u001b[0;36minner_f\u001b[1;34m(*args, **kwargs)\u001b[0m\n\u001b[0;32m     44\u001b[0m             )\n\u001b[0;32m     45\u001b[0m         \u001b[0mkwargs\u001b[0m\u001b[1;33m.\u001b[0m\u001b[0mupdate\u001b[0m\u001b[1;33m(\u001b[0m\u001b[1;33m{\u001b[0m\u001b[0mk\u001b[0m\u001b[1;33m:\u001b[0m \u001b[0marg\u001b[0m \u001b[1;32mfor\u001b[0m \u001b[0mk\u001b[0m\u001b[1;33m,\u001b[0m \u001b[0marg\u001b[0m \u001b[1;32min\u001b[0m \u001b[0mzip\u001b[0m\u001b[1;33m(\u001b[0m\u001b[0msig\u001b[0m\u001b[1;33m.\u001b[0m\u001b[0mparameters\u001b[0m\u001b[1;33m,\u001b[0m \u001b[0margs\u001b[0m\u001b[1;33m)\u001b[0m\u001b[1;33m}\u001b[0m\u001b[1;33m)\u001b[0m\u001b[1;33m\u001b[0m\u001b[1;33m\u001b[0m\u001b[0m\n\u001b[1;32m---> 46\u001b[1;33m         \u001b[1;32mreturn\u001b[0m \u001b[0mf\u001b[0m\u001b[1;33m(\u001b[0m\u001b[1;33m**\u001b[0m\u001b[0mkwargs\u001b[0m\u001b[1;33m)\u001b[0m\u001b[1;33m\u001b[0m\u001b[1;33m\u001b[0m\u001b[0m\n\u001b[0m\u001b[0;32m     47\u001b[0m     \u001b[1;32mreturn\u001b[0m \u001b[0minner_f\u001b[0m\u001b[1;33m\u001b[0m\u001b[1;33m\u001b[0m\u001b[0m\n\u001b[0;32m     48\u001b[0m \u001b[1;33m\u001b[0m\u001b[0m\n",
      "\u001b[1;32mD:\\Installation_deck\\AnaConDa\\lib\\site-packages\\seaborn\\axisgrid.py\u001b[0m in \u001b[0;36mpairplot\u001b[1;34m(data, hue, hue_order, palette, vars, x_vars, y_vars, kind, diag_kind, markers, height, aspect, corner, dropna, plot_kws, diag_kws, grid_kws, size)\u001b[0m\n\u001b[0;32m   1959\u001b[0m     \u001b[0mdiag_kws\u001b[0m\u001b[1;33m.\u001b[0m\u001b[0msetdefault\u001b[0m\u001b[1;33m(\u001b[0m\u001b[1;34m\"legend\"\u001b[0m\u001b[1;33m,\u001b[0m \u001b[1;32mFalse\u001b[0m\u001b[1;33m)\u001b[0m\u001b[1;33m\u001b[0m\u001b[1;33m\u001b[0m\u001b[0m\n\u001b[0;32m   1960\u001b[0m     \u001b[1;32mif\u001b[0m \u001b[0mdiag_kind\u001b[0m \u001b[1;33m==\u001b[0m \u001b[1;34m\"hist\"\u001b[0m\u001b[1;33m:\u001b[0m\u001b[1;33m\u001b[0m\u001b[1;33m\u001b[0m\u001b[0m\n\u001b[1;32m-> 1961\u001b[1;33m         \u001b[0mgrid\u001b[0m\u001b[1;33m.\u001b[0m\u001b[0mmap_diag\u001b[0m\u001b[1;33m(\u001b[0m\u001b[0mhistplot\u001b[0m\u001b[1;33m,\u001b[0m \u001b[1;33m**\u001b[0m\u001b[0mdiag_kws\u001b[0m\u001b[1;33m)\u001b[0m\u001b[1;33m\u001b[0m\u001b[1;33m\u001b[0m\u001b[0m\n\u001b[0m\u001b[0;32m   1962\u001b[0m     \u001b[1;32melif\u001b[0m \u001b[0mdiag_kind\u001b[0m \u001b[1;33m==\u001b[0m \u001b[1;34m\"kde\"\u001b[0m\u001b[1;33m:\u001b[0m\u001b[1;33m\u001b[0m\u001b[1;33m\u001b[0m\u001b[0m\n\u001b[0;32m   1963\u001b[0m         \u001b[0mdiag_kws\u001b[0m\u001b[1;33m.\u001b[0m\u001b[0msetdefault\u001b[0m\u001b[1;33m(\u001b[0m\u001b[1;34m\"fill\"\u001b[0m\u001b[1;33m,\u001b[0m \u001b[1;32mTrue\u001b[0m\u001b[1;33m)\u001b[0m\u001b[1;33m\u001b[0m\u001b[1;33m\u001b[0m\u001b[0m\n",
      "\u001b[1;32mD:\\Installation_deck\\AnaConDa\\lib\\site-packages\\seaborn\\axisgrid.py\u001b[0m in \u001b[0;36mmap_diag\u001b[1;34m(self, func, **kwargs)\u001b[0m\n\u001b[0;32m   1375\u001b[0m             \u001b[0mplot_kwargs\u001b[0m\u001b[1;33m.\u001b[0m\u001b[0msetdefault\u001b[0m\u001b[1;33m(\u001b[0m\u001b[1;34m\"hue_order\"\u001b[0m\u001b[1;33m,\u001b[0m \u001b[0mself\u001b[0m\u001b[1;33m.\u001b[0m\u001b[0m_hue_order\u001b[0m\u001b[1;33m)\u001b[0m\u001b[1;33m\u001b[0m\u001b[1;33m\u001b[0m\u001b[0m\n\u001b[0;32m   1376\u001b[0m             \u001b[0mplot_kwargs\u001b[0m\u001b[1;33m.\u001b[0m\u001b[0msetdefault\u001b[0m\u001b[1;33m(\u001b[0m\u001b[1;34m\"palette\"\u001b[0m\u001b[1;33m,\u001b[0m \u001b[0mself\u001b[0m\u001b[1;33m.\u001b[0m\u001b[0m_orig_palette\u001b[0m\u001b[1;33m)\u001b[0m\u001b[1;33m\u001b[0m\u001b[1;33m\u001b[0m\u001b[0m\n\u001b[1;32m-> 1377\u001b[1;33m             \u001b[0mfunc\u001b[0m\u001b[1;33m(\u001b[0m\u001b[0mx\u001b[0m\u001b[1;33m=\u001b[0m\u001b[0mvector\u001b[0m\u001b[1;33m,\u001b[0m \u001b[1;33m**\u001b[0m\u001b[0mplot_kwargs\u001b[0m\u001b[1;33m)\u001b[0m\u001b[1;33m\u001b[0m\u001b[1;33m\u001b[0m\u001b[0m\n\u001b[0m\u001b[0;32m   1378\u001b[0m             \u001b[0mself\u001b[0m\u001b[1;33m.\u001b[0m\u001b[0m_clean_axis\u001b[0m\u001b[1;33m(\u001b[0m\u001b[0max\u001b[0m\u001b[1;33m)\u001b[0m\u001b[1;33m\u001b[0m\u001b[1;33m\u001b[0m\u001b[0m\n\u001b[0;32m   1379\u001b[0m \u001b[1;33m\u001b[0m\u001b[0m\n",
      "\u001b[1;32mD:\\Installation_deck\\AnaConDa\\lib\\site-packages\\seaborn\\distributions.py\u001b[0m in \u001b[0;36mhistplot\u001b[1;34m(data, x, y, hue, weights, stat, bins, binwidth, binrange, discrete, cumulative, common_bins, common_norm, multiple, element, fill, shrink, kde, kde_kws, line_kws, thresh, pthresh, pmax, cbar, cbar_ax, cbar_kws, palette, hue_order, hue_norm, color, log_scale, legend, ax, **kwargs)\u001b[0m\n\u001b[0;32m   1420\u001b[0m     \u001b[1;32mif\u001b[0m \u001b[0mp\u001b[0m\u001b[1;33m.\u001b[0m\u001b[0munivariate\u001b[0m\u001b[1;33m:\u001b[0m\u001b[1;33m\u001b[0m\u001b[1;33m\u001b[0m\u001b[0m\n\u001b[0;32m   1421\u001b[0m \u001b[1;33m\u001b[0m\u001b[0m\n\u001b[1;32m-> 1422\u001b[1;33m         p.plot_univariate_histogram(\n\u001b[0m\u001b[0;32m   1423\u001b[0m             \u001b[0mmultiple\u001b[0m\u001b[1;33m=\u001b[0m\u001b[0mmultiple\u001b[0m\u001b[1;33m,\u001b[0m\u001b[1;33m\u001b[0m\u001b[1;33m\u001b[0m\u001b[0m\n\u001b[0;32m   1424\u001b[0m             \u001b[0melement\u001b[0m\u001b[1;33m=\u001b[0m\u001b[0melement\u001b[0m\u001b[1;33m,\u001b[0m\u001b[1;33m\u001b[0m\u001b[1;33m\u001b[0m\u001b[0m\n",
      "\u001b[1;32mD:\\Installation_deck\\AnaConDa\\lib\\site-packages\\seaborn\\distributions.py\u001b[0m in \u001b[0;36mplot_univariate_histogram\u001b[1;34m(self, multiple, element, fill, common_norm, common_bins, shrink, kde, kde_kws, color, legend, line_kws, estimate_kws, **plot_kws)\u001b[0m\n\u001b[0;32m    552\u001b[0m                 \u001b[0mplot_func\u001b[0m \u001b[1;33m=\u001b[0m \u001b[0max\u001b[0m\u001b[1;33m.\u001b[0m\u001b[0mbar\u001b[0m \u001b[1;32mif\u001b[0m \u001b[0mself\u001b[0m\u001b[1;33m.\u001b[0m\u001b[0mdata_variable\u001b[0m \u001b[1;33m==\u001b[0m \u001b[1;34m\"x\"\u001b[0m \u001b[1;32melse\u001b[0m \u001b[0max\u001b[0m\u001b[1;33m.\u001b[0m\u001b[0mbarh\u001b[0m\u001b[1;33m\u001b[0m\u001b[1;33m\u001b[0m\u001b[0m\n\u001b[0;32m    553\u001b[0m                 \u001b[0mmove\u001b[0m \u001b[1;33m=\u001b[0m \u001b[1;36m.5\u001b[0m \u001b[1;33m*\u001b[0m \u001b[1;33m(\u001b[0m\u001b[1;36m1\u001b[0m \u001b[1;33m-\u001b[0m \u001b[0mshrink\u001b[0m\u001b[1;33m)\u001b[0m\u001b[1;33m\u001b[0m\u001b[1;33m\u001b[0m\u001b[0m\n\u001b[1;32m--> 554\u001b[1;33m                 artists = plot_func(\n\u001b[0m\u001b[0;32m    555\u001b[0m                     \u001b[0mhist\u001b[0m\u001b[1;33m[\u001b[0m\u001b[1;34m\"edges\"\u001b[0m\u001b[1;33m]\u001b[0m \u001b[1;33m+\u001b[0m \u001b[0mmove\u001b[0m\u001b[1;33m,\u001b[0m\u001b[1;33m\u001b[0m\u001b[1;33m\u001b[0m\u001b[0m\n\u001b[0;32m    556\u001b[0m                     \u001b[0mhist\u001b[0m\u001b[1;33m[\u001b[0m\u001b[1;34m\"heights\"\u001b[0m\u001b[1;33m]\u001b[0m \u001b[1;33m-\u001b[0m \u001b[0mbottom\u001b[0m\u001b[1;33m,\u001b[0m\u001b[1;33m\u001b[0m\u001b[1;33m\u001b[0m\u001b[0m\n",
      "\u001b[1;32mD:\\Installation_deck\\AnaConDa\\lib\\site-packages\\matplotlib\\__init__.py\u001b[0m in \u001b[0;36minner\u001b[1;34m(ax, data, *args, **kwargs)\u001b[0m\n\u001b[0;32m   1436\u001b[0m     \u001b[1;32mdef\u001b[0m \u001b[0minner\u001b[0m\u001b[1;33m(\u001b[0m\u001b[0max\u001b[0m\u001b[1;33m,\u001b[0m \u001b[1;33m*\u001b[0m\u001b[0margs\u001b[0m\u001b[1;33m,\u001b[0m \u001b[0mdata\u001b[0m\u001b[1;33m=\u001b[0m\u001b[1;32mNone\u001b[0m\u001b[1;33m,\u001b[0m \u001b[1;33m**\u001b[0m\u001b[0mkwargs\u001b[0m\u001b[1;33m)\u001b[0m\u001b[1;33m:\u001b[0m\u001b[1;33m\u001b[0m\u001b[1;33m\u001b[0m\u001b[0m\n\u001b[0;32m   1437\u001b[0m         \u001b[1;32mif\u001b[0m \u001b[0mdata\u001b[0m \u001b[1;32mis\u001b[0m \u001b[1;32mNone\u001b[0m\u001b[1;33m:\u001b[0m\u001b[1;33m\u001b[0m\u001b[1;33m\u001b[0m\u001b[0m\n\u001b[1;32m-> 1438\u001b[1;33m             \u001b[1;32mreturn\u001b[0m \u001b[0mfunc\u001b[0m\u001b[1;33m(\u001b[0m\u001b[0max\u001b[0m\u001b[1;33m,\u001b[0m \u001b[1;33m*\u001b[0m\u001b[0mmap\u001b[0m\u001b[1;33m(\u001b[0m\u001b[0msanitize_sequence\u001b[0m\u001b[1;33m,\u001b[0m \u001b[0margs\u001b[0m\u001b[1;33m)\u001b[0m\u001b[1;33m,\u001b[0m \u001b[1;33m**\u001b[0m\u001b[0mkwargs\u001b[0m\u001b[1;33m)\u001b[0m\u001b[1;33m\u001b[0m\u001b[1;33m\u001b[0m\u001b[0m\n\u001b[0m\u001b[0;32m   1439\u001b[0m \u001b[1;33m\u001b[0m\u001b[0m\n\u001b[0;32m   1440\u001b[0m         \u001b[0mbound\u001b[0m \u001b[1;33m=\u001b[0m \u001b[0mnew_sig\u001b[0m\u001b[1;33m.\u001b[0m\u001b[0mbind\u001b[0m\u001b[1;33m(\u001b[0m\u001b[0max\u001b[0m\u001b[1;33m,\u001b[0m \u001b[1;33m*\u001b[0m\u001b[0margs\u001b[0m\u001b[1;33m,\u001b[0m \u001b[1;33m**\u001b[0m\u001b[0mkwargs\u001b[0m\u001b[1;33m)\u001b[0m\u001b[1;33m\u001b[0m\u001b[1;33m\u001b[0m\u001b[0m\n",
      "\u001b[1;32mD:\\Installation_deck\\AnaConDa\\lib\\site-packages\\matplotlib\\axes\\_axes.py\u001b[0m in \u001b[0;36mbar\u001b[1;34m(self, x, height, width, bottom, align, **kwargs)\u001b[0m\n\u001b[0;32m   2492\u001b[0m             \u001b[1;32melif\u001b[0m \u001b[0morientation\u001b[0m \u001b[1;33m==\u001b[0m \u001b[1;34m'horizontal'\u001b[0m\u001b[1;33m:\u001b[0m\u001b[1;33m\u001b[0m\u001b[1;33m\u001b[0m\u001b[0m\n\u001b[0;32m   2493\u001b[0m                 \u001b[0mr\u001b[0m\u001b[1;33m.\u001b[0m\u001b[0msticky_edges\u001b[0m\u001b[1;33m.\u001b[0m\u001b[0mx\u001b[0m\u001b[1;33m.\u001b[0m\u001b[0mappend\u001b[0m\u001b[1;33m(\u001b[0m\u001b[0ml\u001b[0m\u001b[1;33m)\u001b[0m\u001b[1;33m\u001b[0m\u001b[1;33m\u001b[0m\u001b[0m\n\u001b[1;32m-> 2494\u001b[1;33m             \u001b[0mself\u001b[0m\u001b[1;33m.\u001b[0m\u001b[0madd_patch\u001b[0m\u001b[1;33m(\u001b[0m\u001b[0mr\u001b[0m\u001b[1;33m)\u001b[0m\u001b[1;33m\u001b[0m\u001b[1;33m\u001b[0m\u001b[0m\n\u001b[0m\u001b[0;32m   2495\u001b[0m             \u001b[0mpatches\u001b[0m\u001b[1;33m.\u001b[0m\u001b[0mappend\u001b[0m\u001b[1;33m(\u001b[0m\u001b[0mr\u001b[0m\u001b[1;33m)\u001b[0m\u001b[1;33m\u001b[0m\u001b[1;33m\u001b[0m\u001b[0m\n\u001b[0;32m   2496\u001b[0m \u001b[1;33m\u001b[0m\u001b[0m\n",
      "\u001b[1;32mD:\\Installation_deck\\AnaConDa\\lib\\site-packages\\matplotlib\\axes\\_base.py\u001b[0m in \u001b[0;36madd_patch\u001b[1;34m(self, p)\u001b[0m\n\u001b[0;32m   2030\u001b[0m         \u001b[0mself\u001b[0m\u001b[1;33m.\u001b[0m\u001b[0m_set_artist_props\u001b[0m\u001b[1;33m(\u001b[0m\u001b[0mp\u001b[0m\u001b[1;33m)\u001b[0m\u001b[1;33m\u001b[0m\u001b[1;33m\u001b[0m\u001b[0m\n\u001b[0;32m   2031\u001b[0m         \u001b[1;32mif\u001b[0m \u001b[0mp\u001b[0m\u001b[1;33m.\u001b[0m\u001b[0mget_clip_path\u001b[0m\u001b[1;33m(\u001b[0m\u001b[1;33m)\u001b[0m \u001b[1;32mis\u001b[0m \u001b[1;32mNone\u001b[0m\u001b[1;33m:\u001b[0m\u001b[1;33m\u001b[0m\u001b[1;33m\u001b[0m\u001b[0m\n\u001b[1;32m-> 2032\u001b[1;33m             \u001b[0mp\u001b[0m\u001b[1;33m.\u001b[0m\u001b[0mset_clip_path\u001b[0m\u001b[1;33m(\u001b[0m\u001b[0mself\u001b[0m\u001b[1;33m.\u001b[0m\u001b[0mpatch\u001b[0m\u001b[1;33m)\u001b[0m\u001b[1;33m\u001b[0m\u001b[1;33m\u001b[0m\u001b[0m\n\u001b[0m\u001b[0;32m   2033\u001b[0m         \u001b[0mself\u001b[0m\u001b[1;33m.\u001b[0m\u001b[0m_update_patch_limits\u001b[0m\u001b[1;33m(\u001b[0m\u001b[0mp\u001b[0m\u001b[1;33m)\u001b[0m\u001b[1;33m\u001b[0m\u001b[1;33m\u001b[0m\u001b[0m\n\u001b[0;32m   2034\u001b[0m         \u001b[0mself\u001b[0m\u001b[1;33m.\u001b[0m\u001b[0mpatches\u001b[0m\u001b[1;33m.\u001b[0m\u001b[0mappend\u001b[0m\u001b[1;33m(\u001b[0m\u001b[0mp\u001b[0m\u001b[1;33m)\u001b[0m\u001b[1;33m\u001b[0m\u001b[1;33m\u001b[0m\u001b[0m\n",
      "\u001b[1;32mD:\\Installation_deck\\AnaConDa\\lib\\site-packages\\matplotlib\\artist.py\u001b[0m in \u001b[0;36mset_clip_path\u001b[1;34m(self, path, transform)\u001b[0m\n\u001b[0;32m    751\u001b[0m         \u001b[1;32mif\u001b[0m \u001b[0mtransform\u001b[0m \u001b[1;32mis\u001b[0m \u001b[1;32mNone\u001b[0m\u001b[1;33m:\u001b[0m\u001b[1;33m\u001b[0m\u001b[1;33m\u001b[0m\u001b[0m\n\u001b[0;32m    752\u001b[0m             \u001b[1;32mif\u001b[0m \u001b[0misinstance\u001b[0m\u001b[1;33m(\u001b[0m\u001b[0mpath\u001b[0m\u001b[1;33m,\u001b[0m \u001b[0mRectangle\u001b[0m\u001b[1;33m)\u001b[0m\u001b[1;33m:\u001b[0m\u001b[1;33m\u001b[0m\u001b[1;33m\u001b[0m\u001b[0m\n\u001b[1;32m--> 753\u001b[1;33m                 self.clipbox = TransformedBbox(Bbox.unit(),\n\u001b[0m\u001b[0;32m    754\u001b[0m                                                path.get_transform())\n\u001b[0;32m    755\u001b[0m                 \u001b[0mself\u001b[0m\u001b[1;33m.\u001b[0m\u001b[0m_clippath\u001b[0m \u001b[1;33m=\u001b[0m \u001b[1;32mNone\u001b[0m\u001b[1;33m\u001b[0m\u001b[1;33m\u001b[0m\u001b[0m\n",
      "\u001b[1;32mD:\\Installation_deck\\AnaConDa\\lib\\site-packages\\matplotlib\\transforms.py\u001b[0m in \u001b[0;36munit\u001b[1;34m()\u001b[0m\n\u001b[0;32m    797\u001b[0m     \u001b[1;32mdef\u001b[0m \u001b[0munit\u001b[0m\u001b[1;33m(\u001b[0m\u001b[1;33m)\u001b[0m\u001b[1;33m:\u001b[0m\u001b[1;33m\u001b[0m\u001b[1;33m\u001b[0m\u001b[0m\n\u001b[0;32m    798\u001b[0m         \u001b[1;34m\"\"\"Create a new unit `Bbox` from (0, 0) to (1, 1).\"\"\"\u001b[0m\u001b[1;33m\u001b[0m\u001b[1;33m\u001b[0m\u001b[0m\n\u001b[1;32m--> 799\u001b[1;33m         \u001b[1;32mreturn\u001b[0m \u001b[0mBbox\u001b[0m\u001b[1;33m(\u001b[0m\u001b[1;33m[\u001b[0m\u001b[1;33m[\u001b[0m\u001b[1;36m0\u001b[0m\u001b[1;33m,\u001b[0m \u001b[1;36m0\u001b[0m\u001b[1;33m]\u001b[0m\u001b[1;33m,\u001b[0m \u001b[1;33m[\u001b[0m\u001b[1;36m1\u001b[0m\u001b[1;33m,\u001b[0m \u001b[1;36m1\u001b[0m\u001b[1;33m]\u001b[0m\u001b[1;33m]\u001b[0m\u001b[1;33m)\u001b[0m\u001b[1;33m\u001b[0m\u001b[1;33m\u001b[0m\u001b[0m\n\u001b[0m\u001b[0;32m    800\u001b[0m \u001b[1;33m\u001b[0m\u001b[0m\n\u001b[0;32m    801\u001b[0m     \u001b[1;33m@\u001b[0m\u001b[0mstaticmethod\u001b[0m\u001b[1;33m\u001b[0m\u001b[1;33m\u001b[0m\u001b[0m\n",
      "\u001b[1;32mD:\\Installation_deck\\AnaConDa\\lib\\site-packages\\matplotlib\\transforms.py\u001b[0m in \u001b[0;36m__init__\u001b[1;34m(self, points, **kwargs)\u001b[0m\n\u001b[0;32m    782\u001b[0m         \u001b[1;31m# default or has been mutated; we store the orig points to\u001b[0m\u001b[1;33m\u001b[0m\u001b[1;33m\u001b[0m\u001b[1;33m\u001b[0m\u001b[0m\n\u001b[0;32m    783\u001b[0m         \u001b[1;31m# support the mutated methods\u001b[0m\u001b[1;33m\u001b[0m\u001b[1;33m\u001b[0m\u001b[1;33m\u001b[0m\u001b[0m\n\u001b[1;32m--> 784\u001b[1;33m         \u001b[0mself\u001b[0m\u001b[1;33m.\u001b[0m\u001b[0m_points_orig\u001b[0m \u001b[1;33m=\u001b[0m \u001b[0mself\u001b[0m\u001b[1;33m.\u001b[0m\u001b[0m_points\u001b[0m\u001b[1;33m.\u001b[0m\u001b[0mcopy\u001b[0m\u001b[1;33m(\u001b[0m\u001b[1;33m)\u001b[0m\u001b[1;33m\u001b[0m\u001b[1;33m\u001b[0m\u001b[0m\n\u001b[0m\u001b[0;32m    785\u001b[0m     \u001b[1;32mif\u001b[0m \u001b[0mDEBUG\u001b[0m\u001b[1;33m:\u001b[0m\u001b[1;33m\u001b[0m\u001b[1;33m\u001b[0m\u001b[0m\n\u001b[0;32m    786\u001b[0m         \u001b[0m___init__\u001b[0m \u001b[1;33m=\u001b[0m \u001b[0m__init__\u001b[0m\u001b[1;33m\u001b[0m\u001b[1;33m\u001b[0m\u001b[0m\n",
      "\u001b[1;31mKeyboardInterrupt\u001b[0m: "
     ]
    }
   ],
   "source": [
    "sns.pairplot(df)\n",
    "plt.show()"
   ]
  },
  {
   "cell_type": "raw",
   "metadata": {},
   "source": [
    "#Extensive EDA - Entailed in another notebook for EDA\n",
    "\n",
    "#import pandas_profiling\n",
    "#pandas_profiling.ProfileReport(df)"
   ]
  },
  {
   "cell_type": "markdown",
   "metadata": {},
   "source": [
    "# Data Cleaning"
   ]
  },
  {
   "cell_type": "code",
   "execution_count": 9,
   "metadata": {},
   "outputs": [],
   "source": [
    "#Missing Values\n",
    "def missing_values_table(df):\n",
    "        mis_val = df.isnull().sum()\n",
    "        \n",
    "        mis_val_percent = 100 * df.isnull().sum() / len(df)\n",
    "        mis_val_table = pd.concat([mis_val, mis_val_percent], axis=1)\n",
    "        \n",
    "        # Rename the columns\n",
    "        mis_val_table_ren_columns = mis_val_table.rename(\n",
    "        columns = {0 : 'Missing Values', 1 : '% of Total Values'})\n",
    "        \n",
    "        # Sort the table by percentage of missing descending\n",
    "        mis_val_table_ren_columns = mis_val_table_ren_columns[\n",
    "            mis_val_table_ren_columns.iloc[:,1] != 0].sort_values(\n",
    "        '% of Total Values', ascending=False).round(1)\n",
    "        \n",
    "        #Summary Information\n",
    "        print (\"Your selected dataframe has \" + str(df.shape[1]) + \" columns.\\n\"      \n",
    "            \"There are \" + str(mis_val_table_ren_columns.shape[0]) +\n",
    "              \" columns that have missing values.\")\n",
    "        \n",
    "        # Return the dataframe with missing information\n",
    "        return mis_val_table_ren_columns"
   ]
  },
  {
   "cell_type": "code",
   "execution_count": 10,
   "metadata": {},
   "outputs": [
    {
     "name": "stdout",
     "output_type": "stream",
     "text": [
      "Your selected dataframe has 45 columns.\n",
      "There are 21 columns that have missing values.\n"
     ]
    },
    {
     "data": {
      "text/html": [
       "<div>\n",
       "<style scoped>\n",
       "    .dataframe tbody tr th:only-of-type {\n",
       "        vertical-align: middle;\n",
       "    }\n",
       "\n",
       "    .dataframe tbody tr th {\n",
       "        vertical-align: top;\n",
       "    }\n",
       "\n",
       "    .dataframe thead th {\n",
       "        text-align: right;\n",
       "    }\n",
       "</style>\n",
       "<table border=\"1\" class=\"dataframe\">\n",
       "  <thead>\n",
       "    <tr style=\"text-align: right;\">\n",
       "      <th></th>\n",
       "      <th>Missing Values</th>\n",
       "      <th>% of Total Values</th>\n",
       "    </tr>\n",
       "  </thead>\n",
       "  <tbody>\n",
       "    <tr>\n",
       "      <th>verification_status_joint</th>\n",
       "      <td>532123</td>\n",
       "      <td>99.9</td>\n",
       "    </tr>\n",
       "    <tr>\n",
       "      <th>desc</th>\n",
       "      <td>456829</td>\n",
       "      <td>85.8</td>\n",
       "    </tr>\n",
       "    <tr>\n",
       "      <th>mths_since_last_record</th>\n",
       "      <td>450305</td>\n",
       "      <td>84.6</td>\n",
       "    </tr>\n",
       "    <tr>\n",
       "      <th>mths_since_last_major_derog</th>\n",
       "      <td>399448</td>\n",
       "      <td>75.0</td>\n",
       "    </tr>\n",
       "    <tr>\n",
       "      <th>mths_since_last_delinq</th>\n",
       "      <td>272554</td>\n",
       "      <td>51.2</td>\n",
       "    </tr>\n",
       "    <tr>\n",
       "      <th>batch_enrolled</th>\n",
       "      <td>85149</td>\n",
       "      <td>16.0</td>\n",
       "    </tr>\n",
       "    <tr>\n",
       "      <th>tot_cur_bal</th>\n",
       "      <td>42004</td>\n",
       "      <td>7.9</td>\n",
       "    </tr>\n",
       "    <tr>\n",
       "      <th>tot_coll_amt</th>\n",
       "      <td>42004</td>\n",
       "      <td>7.9</td>\n",
       "    </tr>\n",
       "    <tr>\n",
       "      <th>total_rev_hi_lim</th>\n",
       "      <td>42004</td>\n",
       "      <td>7.9</td>\n",
       "    </tr>\n",
       "    <tr>\n",
       "      <th>emp_title</th>\n",
       "      <td>30833</td>\n",
       "      <td>5.8</td>\n",
       "    </tr>\n",
       "    <tr>\n",
       "      <th>emp_length</th>\n",
       "      <td>26891</td>\n",
       "      <td>5.1</td>\n",
       "    </tr>\n",
       "    <tr>\n",
       "      <th>revol_util</th>\n",
       "      <td>287</td>\n",
       "      <td>0.1</td>\n",
       "    </tr>\n",
       "    <tr>\n",
       "      <th>collections_12_mths_ex_med</th>\n",
       "      <td>95</td>\n",
       "      <td>0.0</td>\n",
       "    </tr>\n",
       "    <tr>\n",
       "      <th>title</th>\n",
       "      <td>90</td>\n",
       "      <td>0.0</td>\n",
       "    </tr>\n",
       "    <tr>\n",
       "      <th>inq_last_6mths</th>\n",
       "      <td>16</td>\n",
       "      <td>0.0</td>\n",
       "    </tr>\n",
       "    <tr>\n",
       "      <th>pub_rec</th>\n",
       "      <td>16</td>\n",
       "      <td>0.0</td>\n",
       "    </tr>\n",
       "    <tr>\n",
       "      <th>total_acc</th>\n",
       "      <td>16</td>\n",
       "      <td>0.0</td>\n",
       "    </tr>\n",
       "    <tr>\n",
       "      <th>delinq_2yrs</th>\n",
       "      <td>16</td>\n",
       "      <td>0.0</td>\n",
       "    </tr>\n",
       "    <tr>\n",
       "      <th>acc_now_delinq</th>\n",
       "      <td>16</td>\n",
       "      <td>0.0</td>\n",
       "    </tr>\n",
       "    <tr>\n",
       "      <th>open_acc</th>\n",
       "      <td>16</td>\n",
       "      <td>0.0</td>\n",
       "    </tr>\n",
       "    <tr>\n",
       "      <th>annual_inc</th>\n",
       "      <td>3</td>\n",
       "      <td>0.0</td>\n",
       "    </tr>\n",
       "  </tbody>\n",
       "</table>\n",
       "</div>"
      ],
      "text/plain": [
       "                             Missing Values  % of Total Values\n",
       "verification_status_joint            532123               99.9\n",
       "desc                                 456829               85.8\n",
       "mths_since_last_record               450305               84.6\n",
       "mths_since_last_major_derog          399448               75.0\n",
       "mths_since_last_delinq               272554               51.2\n",
       "batch_enrolled                        85149               16.0\n",
       "tot_cur_bal                           42004                7.9\n",
       "tot_coll_amt                          42004                7.9\n",
       "total_rev_hi_lim                      42004                7.9\n",
       "emp_title                             30833                5.8\n",
       "emp_length                            26891                5.1\n",
       "revol_util                              287                0.1\n",
       "collections_12_mths_ex_med               95                0.0\n",
       "title                                    90                0.0\n",
       "inq_last_6mths                           16                0.0\n",
       "pub_rec                                  16                0.0\n",
       "total_acc                                16                0.0\n",
       "delinq_2yrs                              16                0.0\n",
       "acc_now_delinq                           16                0.0\n",
       "open_acc                                 16                0.0\n",
       "annual_inc                                3                0.0"
      ]
     },
     "execution_count": 10,
     "metadata": {},
     "output_type": "execute_result"
    }
   ],
   "source": [
    "missing_values_table(df).head(50)"
   ]
  },
  {
   "cell_type": "code",
   "execution_count": 11,
   "metadata": {},
   "outputs": [
    {
     "name": "stdout",
     "output_type": "stream",
     "text": [
      "Your selected dataframe has 41 columns.\n",
      "There are 17 columns that have missing values.\n"
     ]
    },
    {
     "data": {
      "text/html": [
       "<div>\n",
       "<style scoped>\n",
       "    .dataframe tbody tr th:only-of-type {\n",
       "        vertical-align: middle;\n",
       "    }\n",
       "\n",
       "    .dataframe tbody tr th {\n",
       "        vertical-align: top;\n",
       "    }\n",
       "\n",
       "    .dataframe thead th {\n",
       "        text-align: right;\n",
       "    }\n",
       "</style>\n",
       "<table border=\"1\" class=\"dataframe\">\n",
       "  <thead>\n",
       "    <tr style=\"text-align: right;\">\n",
       "      <th></th>\n",
       "      <th>Missing Values</th>\n",
       "      <th>% of Total Values</th>\n",
       "    </tr>\n",
       "  </thead>\n",
       "  <tbody>\n",
       "    <tr>\n",
       "      <th>mths_since_last_delinq</th>\n",
       "      <td>272554</td>\n",
       "      <td>51.2</td>\n",
       "    </tr>\n",
       "    <tr>\n",
       "      <th>batch_enrolled</th>\n",
       "      <td>85149</td>\n",
       "      <td>16.0</td>\n",
       "    </tr>\n",
       "    <tr>\n",
       "      <th>tot_cur_bal</th>\n",
       "      <td>42004</td>\n",
       "      <td>7.9</td>\n",
       "    </tr>\n",
       "    <tr>\n",
       "      <th>tot_coll_amt</th>\n",
       "      <td>42004</td>\n",
       "      <td>7.9</td>\n",
       "    </tr>\n",
       "    <tr>\n",
       "      <th>total_rev_hi_lim</th>\n",
       "      <td>42004</td>\n",
       "      <td>7.9</td>\n",
       "    </tr>\n",
       "    <tr>\n",
       "      <th>emp_title</th>\n",
       "      <td>30833</td>\n",
       "      <td>5.8</td>\n",
       "    </tr>\n",
       "    <tr>\n",
       "      <th>emp_length</th>\n",
       "      <td>26891</td>\n",
       "      <td>5.1</td>\n",
       "    </tr>\n",
       "    <tr>\n",
       "      <th>revol_util</th>\n",
       "      <td>287</td>\n",
       "      <td>0.1</td>\n",
       "    </tr>\n",
       "    <tr>\n",
       "      <th>collections_12_mths_ex_med</th>\n",
       "      <td>95</td>\n",
       "      <td>0.0</td>\n",
       "    </tr>\n",
       "    <tr>\n",
       "      <th>title</th>\n",
       "      <td>90</td>\n",
       "      <td>0.0</td>\n",
       "    </tr>\n",
       "    <tr>\n",
       "      <th>delinq_2yrs</th>\n",
       "      <td>16</td>\n",
       "      <td>0.0</td>\n",
       "    </tr>\n",
       "    <tr>\n",
       "      <th>inq_last_6mths</th>\n",
       "      <td>16</td>\n",
       "      <td>0.0</td>\n",
       "    </tr>\n",
       "    <tr>\n",
       "      <th>pub_rec</th>\n",
       "      <td>16</td>\n",
       "      <td>0.0</td>\n",
       "    </tr>\n",
       "    <tr>\n",
       "      <th>total_acc</th>\n",
       "      <td>16</td>\n",
       "      <td>0.0</td>\n",
       "    </tr>\n",
       "    <tr>\n",
       "      <th>acc_now_delinq</th>\n",
       "      <td>16</td>\n",
       "      <td>0.0</td>\n",
       "    </tr>\n",
       "    <tr>\n",
       "      <th>open_acc</th>\n",
       "      <td>16</td>\n",
       "      <td>0.0</td>\n",
       "    </tr>\n",
       "    <tr>\n",
       "      <th>annual_inc</th>\n",
       "      <td>3</td>\n",
       "      <td>0.0</td>\n",
       "    </tr>\n",
       "  </tbody>\n",
       "</table>\n",
       "</div>"
      ],
      "text/plain": [
       "                            Missing Values  % of Total Values\n",
       "mths_since_last_delinq              272554               51.2\n",
       "batch_enrolled                       85149               16.0\n",
       "tot_cur_bal                          42004                7.9\n",
       "tot_coll_amt                         42004                7.9\n",
       "total_rev_hi_lim                     42004                7.9\n",
       "emp_title                            30833                5.8\n",
       "emp_length                           26891                5.1\n",
       "revol_util                             287                0.1\n",
       "collections_12_mths_ex_med              95                0.0\n",
       "title                                   90                0.0\n",
       "delinq_2yrs                             16                0.0\n",
       "inq_last_6mths                          16                0.0\n",
       "pub_rec                                 16                0.0\n",
       "total_acc                               16                0.0\n",
       "acc_now_delinq                          16                0.0\n",
       "open_acc                                16                0.0\n",
       "annual_inc                               3                0.0"
      ]
     },
     "execution_count": 11,
     "metadata": {},
     "output_type": "execute_result"
    }
   ],
   "source": [
    "###Dropping Columns and Rows\n",
    "threshold = 0.7\n",
    "#Dropping columns with missing value rate higher than threshold\n",
    "df = df[df.columns[df.isnull().mean() < threshold]]\n",
    "\n",
    "#Dropping rows with missing value rate higher than threshold\n",
    "df = df.loc[df.isnull().mean(axis=1) < threshold]\n",
    "\n",
    "missing_values_table(df).head(50)"
   ]
  },
  {
   "cell_type": "code",
   "execution_count": 12,
   "metadata": {},
   "outputs": [
    {
     "name": "stdout",
     "output_type": "stream",
     "text": [
      "Your selected dataframe has 40 columns.\n",
      "There are 16 columns that have missing values.\n"
     ]
    },
    {
     "data": {
      "text/html": [
       "<div>\n",
       "<style scoped>\n",
       "    .dataframe tbody tr th:only-of-type {\n",
       "        vertical-align: middle;\n",
       "    }\n",
       "\n",
       "    .dataframe tbody tr th {\n",
       "        vertical-align: top;\n",
       "    }\n",
       "\n",
       "    .dataframe thead th {\n",
       "        text-align: right;\n",
       "    }\n",
       "</style>\n",
       "<table border=\"1\" class=\"dataframe\">\n",
       "  <thead>\n",
       "    <tr style=\"text-align: right;\">\n",
       "      <th></th>\n",
       "      <th>Missing Values</th>\n",
       "      <th>% of Total Values</th>\n",
       "    </tr>\n",
       "  </thead>\n",
       "  <tbody>\n",
       "    <tr>\n",
       "      <th>batch_enrolled</th>\n",
       "      <td>85149</td>\n",
       "      <td>16.0</td>\n",
       "    </tr>\n",
       "    <tr>\n",
       "      <th>tot_coll_amt</th>\n",
       "      <td>42004</td>\n",
       "      <td>7.9</td>\n",
       "    </tr>\n",
       "    <tr>\n",
       "      <th>tot_cur_bal</th>\n",
       "      <td>42004</td>\n",
       "      <td>7.9</td>\n",
       "    </tr>\n",
       "    <tr>\n",
       "      <th>total_rev_hi_lim</th>\n",
       "      <td>42004</td>\n",
       "      <td>7.9</td>\n",
       "    </tr>\n",
       "    <tr>\n",
       "      <th>emp_title</th>\n",
       "      <td>30833</td>\n",
       "      <td>5.8</td>\n",
       "    </tr>\n",
       "    <tr>\n",
       "      <th>emp_length</th>\n",
       "      <td>26891</td>\n",
       "      <td>5.1</td>\n",
       "    </tr>\n",
       "    <tr>\n",
       "      <th>revol_util</th>\n",
       "      <td>287</td>\n",
       "      <td>0.1</td>\n",
       "    </tr>\n",
       "    <tr>\n",
       "      <th>collections_12_mths_ex_med</th>\n",
       "      <td>95</td>\n",
       "      <td>0.0</td>\n",
       "    </tr>\n",
       "    <tr>\n",
       "      <th>title</th>\n",
       "      <td>90</td>\n",
       "      <td>0.0</td>\n",
       "    </tr>\n",
       "    <tr>\n",
       "      <th>delinq_2yrs</th>\n",
       "      <td>16</td>\n",
       "      <td>0.0</td>\n",
       "    </tr>\n",
       "    <tr>\n",
       "      <th>inq_last_6mths</th>\n",
       "      <td>16</td>\n",
       "      <td>0.0</td>\n",
       "    </tr>\n",
       "    <tr>\n",
       "      <th>open_acc</th>\n",
       "      <td>16</td>\n",
       "      <td>0.0</td>\n",
       "    </tr>\n",
       "    <tr>\n",
       "      <th>pub_rec</th>\n",
       "      <td>16</td>\n",
       "      <td>0.0</td>\n",
       "    </tr>\n",
       "    <tr>\n",
       "      <th>total_acc</th>\n",
       "      <td>16</td>\n",
       "      <td>0.0</td>\n",
       "    </tr>\n",
       "    <tr>\n",
       "      <th>acc_now_delinq</th>\n",
       "      <td>16</td>\n",
       "      <td>0.0</td>\n",
       "    </tr>\n",
       "    <tr>\n",
       "      <th>annual_inc</th>\n",
       "      <td>3</td>\n",
       "      <td>0.0</td>\n",
       "    </tr>\n",
       "  </tbody>\n",
       "</table>\n",
       "</div>"
      ],
      "text/plain": [
       "                            Missing Values  % of Total Values\n",
       "batch_enrolled                       85149               16.0\n",
       "tot_coll_amt                         42004                7.9\n",
       "tot_cur_bal                          42004                7.9\n",
       "total_rev_hi_lim                     42004                7.9\n",
       "emp_title                            30833                5.8\n",
       "emp_length                           26891                5.1\n",
       "revol_util                             287                0.1\n",
       "collections_12_mths_ex_med              95                0.0\n",
       "title                                   90                0.0\n",
       "delinq_2yrs                             16                0.0\n",
       "inq_last_6mths                          16                0.0\n",
       "open_acc                                16                0.0\n",
       "pub_rec                                 16                0.0\n",
       "total_acc                               16                0.0\n",
       "acc_now_delinq                          16                0.0\n",
       "annual_inc                               3                0.0"
      ]
     },
     "execution_count": 12,
     "metadata": {},
     "output_type": "execute_result"
    }
   ],
   "source": [
    "#Dropping columns with high % of Missing values - above 50%\n",
    "df.drop(['mths_since_last_delinq'], axis=1, inplace=True)\n",
    "\n",
    "missing_values_table(df).head(50)"
   ]
  },
  {
   "cell_type": "markdown",
   "metadata": {},
   "source": [
    "# Imputation using mean"
   ]
  },
  {
   "cell_type": "markdown",
   "metadata": {},
   "source": [
    "Using a Traditional split, compute and merge trick - To save processing time of DataFrame. \n",
    "Can also be done with some new alogs - yet takes time to set the system configurations. \n",
    "So, sticking traditional. "
   ]
  },
  {
   "cell_type": "code",
   "execution_count": 13,
   "metadata": {},
   "outputs": [],
   "source": [
    "df = df.sample(frac=1)"
   ]
  },
  {
   "cell_type": "code",
   "execution_count": 14,
   "metadata": {},
   "outputs": [],
   "source": [
    "df_split_1 = df[:100000]\n",
    "df_split_2 = df[100000:200000]\n",
    "df_split_3 = df[200000:300000]\n",
    "df_split_4 = df[300000:400000]\n",
    "df_split_5 = df[400000:]"
   ]
  },
  {
   "cell_type": "code",
   "execution_count": 15,
   "metadata": {},
   "outputs": [
    {
     "name": "stdout",
     "output_type": "stream",
     "text": [
      "(100000, 40)\n",
      "(100000, 40)\n",
      "(100000, 40)\n",
      "(100000, 40)\n",
      "(132428, 40)\n"
     ]
    }
   ],
   "source": [
    "print(df_split_1.shape)\n",
    "print(df_split_2.shape)\n",
    "print(df_split_3.shape)\n",
    "print(df_split_4.shape)\n",
    "print(df_split_5.shape)"
   ]
  },
  {
   "cell_type": "code",
   "execution_count": 16,
   "metadata": {},
   "outputs": [
    {
     "name": "stderr",
     "output_type": "stream",
     "text": [
      "D:\\Installation_deck\\AnaConDa\\lib\\site-packages\\pandas\\core\\series.py:4463: SettingWithCopyWarning: \n",
      "A value is trying to be set on a copy of a slice from a DataFrame\n",
      "\n",
      "See the caveats in the documentation: https://pandas.pydata.org/pandas-docs/stable/user_guide/indexing.html#returning-a-view-versus-a-copy\n",
      "  return super().fillna(\n"
     ]
    }
   ],
   "source": [
    "df_split_1.fillna(df_split_1.mean(), inplace=True)\n",
    "df_split_2.fillna(df_split_2.mean(), inplace=True)\n",
    "df_split_3.fillna(df_split_3.mean(), inplace=True)\n",
    "df_split_4.fillna(df_split_4.mean(), inplace=True)\n",
    "df_split_5.fillna(df_split_5.mean(), inplace=True)"
   ]
  },
  {
   "cell_type": "code",
   "execution_count": 17,
   "metadata": {},
   "outputs": [
    {
     "name": "stdout",
     "output_type": "stream",
     "text": [
      "(100000, 40)\n",
      "(100000, 40)\n",
      "(100000, 40)\n",
      "(100000, 40)\n",
      "(132428, 40)\n"
     ]
    }
   ],
   "source": [
    "print(df_split_1.shape)\n",
    "print(df_split_2.shape)\n",
    "print(df_split_3.shape)\n",
    "print(df_split_4.shape)\n",
    "print(df_split_5.shape)"
   ]
  },
  {
   "cell_type": "code",
   "execution_count": 21,
   "metadata": {},
   "outputs": [],
   "source": [
    "#---"
   ]
  },
  {
   "cell_type": "code",
   "execution_count": 18,
   "metadata": {},
   "outputs": [
    {
     "data": {
      "text/plain": [
       "(532428, 40)"
      ]
     },
     "execution_count": 18,
     "metadata": {},
     "output_type": "execute_result"
    }
   ],
   "source": [
    "#Merging the splitted dataframes to an aggreagated dataframe\n",
    "df_agg = pd.concat([df_split_1, df_split_2, df_split_3, df_split_4, df_split_5], ignore_index=True)\n",
    "df_agg.shape"
   ]
  },
  {
   "cell_type": "code",
   "execution_count": 23,
   "metadata": {},
   "outputs": [],
   "source": [
    "#---"
   ]
  },
  {
   "cell_type": "code",
   "execution_count": 19,
   "metadata": {},
   "outputs": [
    {
     "name": "stdout",
     "output_type": "stream",
     "text": [
      "Your selected dataframe has 40 columns.\n",
      "There are 4 columns that have missing values.\n"
     ]
    },
    {
     "data": {
      "text/html": [
       "<div>\n",
       "<style scoped>\n",
       "    .dataframe tbody tr th:only-of-type {\n",
       "        vertical-align: middle;\n",
       "    }\n",
       "\n",
       "    .dataframe tbody tr th {\n",
       "        vertical-align: top;\n",
       "    }\n",
       "\n",
       "    .dataframe thead th {\n",
       "        text-align: right;\n",
       "    }\n",
       "</style>\n",
       "<table border=\"1\" class=\"dataframe\">\n",
       "  <thead>\n",
       "    <tr style=\"text-align: right;\">\n",
       "      <th></th>\n",
       "      <th>Missing Values</th>\n",
       "      <th>% of Total Values</th>\n",
       "    </tr>\n",
       "  </thead>\n",
       "  <tbody>\n",
       "    <tr>\n",
       "      <th>batch_enrolled</th>\n",
       "      <td>85149</td>\n",
       "      <td>16.0</td>\n",
       "    </tr>\n",
       "    <tr>\n",
       "      <th>emp_title</th>\n",
       "      <td>30833</td>\n",
       "      <td>5.8</td>\n",
       "    </tr>\n",
       "    <tr>\n",
       "      <th>emp_length</th>\n",
       "      <td>26891</td>\n",
       "      <td>5.1</td>\n",
       "    </tr>\n",
       "    <tr>\n",
       "      <th>title</th>\n",
       "      <td>90</td>\n",
       "      <td>0.0</td>\n",
       "    </tr>\n",
       "  </tbody>\n",
       "</table>\n",
       "</div>"
      ],
      "text/plain": [
       "                Missing Values  % of Total Values\n",
       "batch_enrolled           85149               16.0\n",
       "emp_title                30833                5.8\n",
       "emp_length               26891                5.1\n",
       "title                       90                0.0"
      ]
     },
     "execution_count": 19,
     "metadata": {},
     "output_type": "execute_result"
    }
   ],
   "source": [
    "missing_values_table(df_agg).head(50)"
   ]
  },
  {
   "cell_type": "markdown",
   "metadata": {},
   "source": [
    "Note: Now, we are left with categorical columns that comprises of Missing Values. \n",
    "    We drop the columns with % of Missing values >=40\n",
    "    Next, We drop the rows if any of the values is Missing. "
   ]
  },
  {
   "cell_type": "code",
   "execution_count": 20,
   "metadata": {},
   "outputs": [
    {
     "data": {
      "text/plain": [
       "(532428, 40)"
      ]
     },
     "execution_count": 20,
     "metadata": {},
     "output_type": "execute_result"
    }
   ],
   "source": [
    "df_agg.shape"
   ]
  },
  {
   "cell_type": "code",
   "execution_count": 21,
   "metadata": {},
   "outputs": [],
   "source": [
    "#Dropping rows with Missing values - rows that are not feasible for imputation\n",
    "df_agg.dropna(inplace=True)"
   ]
  },
  {
   "cell_type": "code",
   "execution_count": 22,
   "metadata": {},
   "outputs": [
    {
     "name": "stdout",
     "output_type": "stream",
     "text": [
      "Your selected dataframe has 40 columns.\n",
      "There are 0 columns that have missing values.\n"
     ]
    },
    {
     "data": {
      "text/html": [
       "<div>\n",
       "<style scoped>\n",
       "    .dataframe tbody tr th:only-of-type {\n",
       "        vertical-align: middle;\n",
       "    }\n",
       "\n",
       "    .dataframe tbody tr th {\n",
       "        vertical-align: top;\n",
       "    }\n",
       "\n",
       "    .dataframe thead th {\n",
       "        text-align: right;\n",
       "    }\n",
       "</style>\n",
       "<table border=\"1\" class=\"dataframe\">\n",
       "  <thead>\n",
       "    <tr style=\"text-align: right;\">\n",
       "      <th></th>\n",
       "      <th>Missing Values</th>\n",
       "      <th>% of Total Values</th>\n",
       "    </tr>\n",
       "  </thead>\n",
       "  <tbody>\n",
       "  </tbody>\n",
       "</table>\n",
       "</div>"
      ],
      "text/plain": [
       "Empty DataFrame\n",
       "Columns: [Missing Values, % of Total Values]\n",
       "Index: []"
      ]
     },
     "execution_count": 22,
     "metadata": {},
     "output_type": "execute_result"
    }
   ],
   "source": [
    "missing_values_table(df_agg).head(50)"
   ]
  },
  {
   "cell_type": "code",
   "execution_count": 23,
   "metadata": {},
   "outputs": [
    {
     "data": {
      "text/plain": [
       "(421196, 40)"
      ]
     },
     "execution_count": 23,
     "metadata": {},
     "output_type": "execute_result"
    }
   ],
   "source": [
    "df_agg.shape"
   ]
  },
  {
   "cell_type": "code",
   "execution_count": 24,
   "metadata": {},
   "outputs": [
    {
     "data": {
      "text/plain": [
       "Text(0.5, 1.0, 'loan_status Distribution')"
      ]
     },
     "execution_count": 24,
     "metadata": {},
     "output_type": "execute_result"
    },
    {
     "data": {
      "image/png": "[encoded data removed]",
      "text/plain": [
       "<Figure size 432x288 with 1 Axes>"
      ]
     },
     "metadata": {},
     "output_type": "display_data"
    }
   ],
   "source": [
    "#Exploratory Data Analysis - POST Modeling\n",
    "for i in df_agg.select_dtypes(include=['object']).columns:\n",
    "    df_agg.drop(labels=i, axis=1, inplace=True)\n",
    "\n",
    "#Single Variable Plot\n",
    "\n",
    "figsize=(8, 8)\n",
    "\n",
    "# Histogram of the column - loan_status\n",
    "plt.style.use('fivethirtyeight')\n",
    "plt.hist(df_agg['loan_status'], bins = 100, edgecolor = 'k')\n",
    "plt.xlabel('loan_status') \n",
    "plt.ylabel('Number of Members');\n",
    "plt.title('loan_status Distribution')"
   ]
  },
  {
   "cell_type": "code",
   "execution_count": 25,
   "metadata": {},
   "outputs": [
    {
     "data": {
      "text/plain": [
       "(421196, 24)"
      ]
     },
     "execution_count": 25,
     "metadata": {},
     "output_type": "execute_result"
    }
   ],
   "source": [
    "df_agg.shape"
   ]
  },
  {
   "cell_type": "code",
   "execution_count": 26,
   "metadata": {},
   "outputs": [
    {
     "name": "stdout",
     "output_type": "stream",
     "text": [
      "member_id                    -0.491792\n",
      "dti                          -0.131372\n",
      "funded_amnt_inv              -0.107033\n",
      "funded_amnt                  -0.102702\n",
      "loan_amnt                    -0.100810\n",
      "open_acc                     -0.067076\n",
      "recoveries                   -0.062137\n",
      "pub_rec                      -0.047581\n",
      "delinq_2yrs                  -0.047094\n",
      "revol_util                   -0.046795\n",
      "revol_bal                    -0.043415\n",
      "collection_recovery_fee      -0.042931\n",
      "collections_12_mths_ex_med   -0.034023\n",
      "total_rev_hi_lim             -0.020212\n",
      "acc_now_delinq               -0.015418\n",
      "Name: loan_status, dtype: float64 \n",
      "\n",
      "revol_util                   -0.046795\n",
      "revol_bal                    -0.043415\n",
      "collection_recovery_fee      -0.042931\n",
      "collections_12_mths_ex_med   -0.034023\n",
      "total_rev_hi_lim             -0.020212\n",
      "acc_now_delinq               -0.015418\n",
      "annual_inc                   -0.013819\n",
      "tot_coll_amt                 -0.011773\n",
      "total_rec_late_fee           -0.005358\n",
      "total_acc                    -0.003976\n",
      "int_rate                      0.004983\n",
      "tot_cur_bal                   0.009065\n",
      "total_rec_int                 0.036590\n",
      "inq_last_6mths                0.088207\n",
      "loan_status                   1.000000\n",
      "Name: loan_status, dtype: float64\n"
     ]
    }
   ],
   "source": [
    "#Correlations between Features and Target\n",
    "\n",
    "#Find all correlations and sort\n",
    "correlations_df = df_agg.corr()['loan_status'].sort_values()\n",
    "\n",
    "#Print the most negative correlations\n",
    "print(correlations_df.head(15), '\\n')\n",
    "\n",
    "#Print the most positive correlations\n",
    "print(correlations_df.tail(15))"
   ]
  },
  {
   "cell_type": "code",
   "execution_count": 77,
   "metadata": {},
   "outputs": [
    {
     "data": {
      "text/plain": [
       "\"for i in df_agg.columns:\\n    if len(set(df_agg[i]))==1:\\n        df_agg.drop(labels=[i], axis=1, inplace=True)\\n\\n#Find all correlations and sort \\ncorrelations_df = df_agg.corr()['loan_status'].sort_values()\\n\\n#Print the most negative correlations\\nprint(correlations_df.head(15), '\\n')\\n\\n#Print the most positive correlations\\nprint(correlations_df.tail(15))\""
      ]
     },
     "execution_count": 77,
     "metadata": {},
     "output_type": "execute_result"
    }
   ],
   "source": [
    "'''for i in df_agg.columns:\n",
    "    if len(set(df_agg[i]))==1:\n",
    "        df_agg.drop(labels=[i], axis=1, inplace=True)\n",
    "\n",
    "#Find all correlations and sort \n",
    "correlations_df = df_agg.corr()['loan_status'].sort_values()\n",
    "\n",
    "#Print the most negative correlations\n",
    "print(correlations_df.head(15), '\\n')\n",
    "\n",
    "#Print the most positive correlations\n",
    "print(correlations_df.tail(15))'''\n"
   ]
  },
  {
   "cell_type": "markdown",
   "metadata": {},
   "source": [
    "# Feature Engineering and Selection"
   ]
  },
  {
   "cell_type": "code",
   "execution_count": 27,
   "metadata": {},
   "outputs": [],
   "source": [
    "def remove_collinear_features(x, threshold):\n",
    "    \n",
    "    # Dont want to remove correlations between loan_status\n",
    "    y = x['loan_status']\n",
    "    x = x.drop(columns = ['loan_status'])\n",
    "    \n",
    "    # Calculate the correlation matrix\n",
    "    corr_matrix = x.corr()\n",
    "    iters = range(len(corr_matrix.columns) - 1)\n",
    "    drop_cols = []\n",
    "\n",
    "    # Iterate through the correlation matrix and compare correlations\n",
    "    for i in iters:\n",
    "        for j in range(i):\n",
    "            item = corr_matrix.iloc[j:(j+1), (i+1):(i+2)]\n",
    "            col = item.columns\n",
    "            row = item.index\n",
    "            val = abs(item.values)\n",
    "            \n",
    "            # If correlation exceeds the threshold\n",
    "            if val >= threshold:\n",
    "                # Print the correlated features and the correlation value\n",
    "                # print(col.values[0], \"|\", row.values[0], \"|\", round(val[0][0], 2))\n",
    "                drop_cols.append(col.values[0])\n",
    "\n",
    "    # Drop one of each pair of correlated columns\n",
    "    drops = set(drop_cols)\n",
    "    x = x.drop(columns = drops)\n",
    "    \n",
    "    # Add the score back to the data\n",
    "    x['loan_status'] = y\n",
    "               \n",
    "    return x"
   ]
  },
  {
   "cell_type": "code",
   "execution_count": 28,
   "metadata": {},
   "outputs": [],
   "source": [
    "#Remove the collinear features above a specified correlation coefficient\n",
    "df_agg = remove_collinear_features(df_agg, 0.6);"
   ]
  },
  {
   "cell_type": "code",
   "execution_count": 29,
   "metadata": {},
   "outputs": [
    {
     "data": {
      "text/plain": [
       "(421196, 21)"
      ]
     },
     "execution_count": 29,
     "metadata": {},
     "output_type": "execute_result"
    }
   ],
   "source": [
    "df_agg.shape"
   ]
  },
  {
   "cell_type": "code",
   "execution_count": 30,
   "metadata": {},
   "outputs": [
    {
     "data": {
      "text/plain": [
       "Index(['member_id', 'loan_amnt', 'funded_amnt', 'int_rate', 'annual_inc',\n",
       "       'dti', 'delinq_2yrs', 'inq_last_6mths', 'open_acc', 'pub_rec',\n",
       "       'revol_bal', 'revol_util', 'total_rec_int', 'total_rec_late_fee',\n",
       "       'recoveries', 'collection_recovery_fee', 'collections_12_mths_ex_med',\n",
       "       'acc_now_delinq', 'tot_coll_amt', 'tot_cur_bal', 'loan_status'],\n",
       "      dtype='object')"
      ]
     },
     "execution_count": 30,
     "metadata": {},
     "output_type": "execute_result"
    }
   ],
   "source": [
    "df_agg.columns"
   ]
  },
  {
   "cell_type": "markdown",
   "metadata": {},
   "source": [
    "# Split Into Training and Testing Sets"
   ]
  },
  {
   "cell_type": "code",
   "execution_count": 31,
   "metadata": {},
   "outputs": [
    {
     "name": "stdout",
     "output_type": "stream",
     "text": [
      "(336956, 20)\n",
      "(84240, 20)\n",
      "(336956, 1)\n",
      "(84240, 1)\n"
     ]
    }
   ],
   "source": [
    "from sklearn.model_selection import train_test_split\n",
    "\n",
    "#Separate out the features and targets\n",
    "features = df_agg.drop(columns='loan_status')\n",
    "targets = pd.DataFrame(df_agg['loan_status'])\n",
    "\n",
    "#Split into 80% training and 20% testing set\n",
    "X_train, X_test, y_train, y_test = train_test_split(features, targets, test_size = 0.2, random_state = 42)\n",
    "\n",
    "print(X_train.shape)\n",
    "print(X_test.shape)\n",
    "print(y_train.shape)\n",
    "print(y_test.shape)"
   ]
  },
  {
   "cell_type": "code",
   "execution_count": 32,
   "metadata": {},
   "outputs": [],
   "source": [
    "#Feature Scaling\n",
    "from sklearn.preprocessing import StandardScaler\n",
    "\n",
    "sc = StandardScaler()\n",
    "X_train = sc.fit_transform(X_train)\n",
    "X_test = sc.transform(X_test)"
   ]
  },
  {
   "cell_type": "code",
   "execution_count": 33,
   "metadata": {},
   "outputs": [],
   "source": [
    "#Convert y to one-dimensional array (vector)\n",
    "y_train = np.array(y_train).reshape((-1, ))\n",
    "y_test = np.array(y_test).reshape((-1, ))"
   ]
  },
  {
   "cell_type": "code",
   "execution_count": 34,
   "metadata": {},
   "outputs": [
    {
     "data": {
      "text/plain": [
       "array([[ 0.78428454, -1.17383608, -1.17295787, ..., -0.06325534,\n",
       "        -0.10570286, -0.89974012],\n",
       "       [ 1.35794822, -0.4220472 , -0.42068615, ..., -0.06325534,\n",
       "        -0.10570286, -0.91907373],\n",
       "       [-0.60850047,  0.79147027,  0.79361072, ..., -0.06325534,\n",
       "        -0.10570286,  1.35675429],\n",
       "       ...,\n",
       "       [ 0.24820489,  1.07561095,  1.07793389, ..., -0.06325534,\n",
       "        -0.10570286,  2.04953536],\n",
       "       [ 0.22535874, -0.77130345, -0.77016671, ..., -0.06325534,\n",
       "        -0.10570286, -0.6603524 ],\n",
       "       [-0.36496836,  2.25953043,  2.26261377, ..., -0.06325534,\n",
       "        -0.10570286,  2.88025639]])"
      ]
     },
     "execution_count": 34,
     "metadata": {},
     "output_type": "execute_result"
    }
   ],
   "source": [
    "X_train"
   ]
  },
  {
   "cell_type": "code",
   "execution_count": 35,
   "metadata": {},
   "outputs": [
    {
     "data": {
      "text/plain": [
       "array([[ 0.27062447,  0.22318892,  0.22496438, ..., -0.06325534,\n",
       "        -0.10570286, -0.69381029],\n",
       "       [-1.00263507, -0.10830854, -0.10674598, ..., -0.06325534,\n",
       "        -0.10570286, -0.02120196],\n",
       "       [ 1.2393242 , -0.27405727, -0.27260117, ..., -0.06325534,\n",
       "        -0.10570286,  0.48843341],\n",
       "       ...,\n",
       "       [-1.37102168,  0.01008341,  0.011722  , ..., -0.06325534,\n",
       "        -0.07702282, -0.19525818],\n",
       "       [-0.88508839,  0.01008341,  0.011722  , ..., -0.06325534,\n",
       "        -0.10570286,  0.13234586],\n",
       "       [ 0.25444021,  0.60204315,  0.60406194, ..., -0.06325534,\n",
       "        -0.10570286, -0.47207792]])"
      ]
     },
     "execution_count": 35,
     "metadata": {},
     "output_type": "execute_result"
    }
   ],
   "source": [
    "X_test"
   ]
  },
  {
   "cell_type": "markdown",
   "metadata": {},
   "source": [
    "# ML Models - Train, Test, and Evaluate"
   ]
  },
  {
   "cell_type": "raw",
   "metadata": {},
   "source": [
    "# Some of the available options - \n",
    "\n",
    "# 1 - Logistic Regression\n",
    "# 2 - XGBoost\n",
    "# 3 - Suport Vector Machine\n",
    "# 4 - Decision Tree Classification\n",
    "# 5 - Random Forest Classification\n"
   ]
  },
  {
   "cell_type": "code",
   "execution_count": 36,
   "metadata": {},
   "outputs": [
    {
     "name": "stdout",
     "output_type": "stream",
     "text": [
      "Predicted values: [0 0 0 ... 1 0 0]\n",
      "First 100 predicted values:  [0 0 0 0 0 0 0 0 0 0 0 0 0 1 0 0 0 0 1 1 0 0 0 0 0 0 1 0 0 0 1 0 0 0 0 0 0\n",
      " 0 1 1 1 0 0 0 0 0 1 0 0 1 0 0 0 0 0 0 0 0 0 0 0 0 0 1 0 0 0 1 1 0 0 0 0 0\n",
      " 0 0 1 0 0 0 0 0 0 0 0 0 0 0 0 0 0 0 0 0 0 0 0 0 0 0]\n",
      "k_fold :  0.8442259515605116\n",
      "Confusion Matrix:  [[60740  3530]\n",
      " [ 9588 10382]]\n",
      "Accuracy :  84.4278252611586\n",
      "Report :                precision    recall  f1-score   support\n",
      "\n",
      "           0       0.86      0.95      0.90     64270\n",
      "           1       0.75      0.52      0.61     19970\n",
      "\n",
      "    accuracy                           0.84     84240\n",
      "   macro avg       0.80      0.73      0.76     84240\n",
      "weighted avg       0.84      0.84      0.83     84240\n",
      "\n",
      "ROC-AUC :  0.7324776413102617\n"
     ]
    },
    {
     "data": {
      "image/png": "[encoded data removed]",
      "text/plain": [
       "<Figure size 432x288 with 1 Axes>"
      ]
     },
     "metadata": {},
     "output_type": "display_data"
    }
   ],
   "source": [
    "#Decision Tree Classification\n",
    "from sklearn.tree import DecisionTreeClassifier\n",
    "\n",
    "from matplotlib.pyplot import *\n",
    "from sklearn.metrics import confusion_matrix\n",
    "from sklearn.metrics import accuracy_score\n",
    "from sklearn.metrics import roc_curve, roc_auc_score\n",
    "from sklearn.model_selection import cross_val_score\n",
    "from sklearn.metrics import classification_report\n",
    "\n",
    "# Function to perform training with giniIndex.\n",
    "model = DecisionTreeClassifier(criterion = \"gini\", random_state = 100,max_depth=3, min_samples_leaf=5)\n",
    "\n",
    "# Decision tree with entropy\n",
    "#model = DecisionTreeClassifier(criterion = \"entropy\", random_state = 100, max_depth = 3, min_samples_leaf = 5)\n",
    "\n",
    "model.fit(X_train, y_train)\n",
    "y_pred = model.predict(X_test)\n",
    "print(\"Predicted values:\", y_pred)\n",
    "print(\"First 100 predicted values: \", y_pred[:100])\n",
    "\n",
    "k_fold = cross_val_score(estimator = model, X = X_train, y = y_train, cv = 5)\n",
    "print(\"k_fold : \", k_fold.mean())\n",
    "print(\"Confusion Matrix: \", confusion_matrix(y_test, y_pred))\n",
    "print (\"Accuracy : \", accuracy_score(y_test,y_pred)*100)\n",
    "print(\"Report : \", classification_report(y_test, y_pred))\n",
    "print(\"ROC-AUC : \", roc_auc_score(y_test, y_pred))\n",
    "\n",
    "#print('cross val - AUC-ROC: ', cross_val_score(model, X_train, y_train, scoring=\"roc_auc\", cv = 7))\n",
    "#mean_score = cross_val_score(model, X_train, y_train, scoring=\"roc_auc\", cv = 7).mean()\n",
    "#std_score = cross_val_score(model, X_train, y_train, scoring=\"roc_auc\", cv = 7).std()\n",
    "#print('MEAN(cross val - AUC-ROC): ', mean_score)\n",
    "#print('STD(cross val - AUC-ROC): ', std_score)\n",
    "\n",
    "fpr, tpr, _ = roc_curve(y_test, y_pred)\n",
    "plt.clf()\n",
    "plt.plot(fpr, tpr)\n",
    "plt.xlabel('FPR')\n",
    "plt.ylabel('TPR')\n",
    "plt.title('ROC curve - Decision Tree Classification')\n",
    "plt.show()"
   ]
  },
  {
   "cell_type": "code",
   "execution_count": 59,
   "metadata": {},
   "outputs": [
    {
     "name": "stdout",
     "output_type": "stream",
     "text": [
      "Predicted values: [0 0 0 ... 0 1 0]\n",
      "First 100 predicted values:  [0 0 0 1 0 1 0 0 0 0 0 0 0 0 0 1 0 0 0 0 1 0 0 0 0 0 0 0 0 0 0 0 0 0 0 0 0\n",
      " 0 0 0 0 0 1 0 0 0 0 0 0 0 0 0 1 0 0 0 0 0 0 0 1 0 0 0 0 0 0 0 0 0 0 1 1 0\n",
      " 0 0 0 1 0 1 0 0 0 0 0 0 0 0 0 0 0 0 0 0 0 0 0 0 0 0]\n",
      "k_fold_MAE :  0.8805838164320441\n",
      "Confusion Matrix:  [[62023  1947]\n",
      " [ 8195 12075]]\n",
      "Accuracy :  87.96058879392213\n",
      "Report :                precision    recall  f1-score   support\n",
      "\n",
      "           0       0.88      0.97      0.92     63970\n",
      "           1       0.86      0.60      0.70     20270\n",
      "\n",
      "    accuracy                           0.88     84240\n",
      "   macro avg       0.87      0.78      0.81     84240\n",
      "weighted avg       0.88      0.88      0.87     84240\n",
      "\n",
      "ROC-AUC :  0.7826359004155176\n"
     ]
    },
    {
     "data": {
      "image/png": "[encoded data removed]",
      "text/plain": [
       "<Figure size 432x288 with 1 Axes>"
      ]
     },
     "metadata": {},
     "output_type": "display_data"
    }
   ],
   "source": [
    "#Random Forest Classification\n",
    "from sklearn.ensemble import RandomForestClassifier\n",
    "\n",
    "from matplotlib.pyplot import *\n",
    "from sklearn.metrics import confusion_matrix\n",
    "from sklearn.metrics import accuracy_score, f1_score\n",
    "from sklearn.metrics import roc_curve, roc_auc_score\n",
    "from sklearn.model_selection import cross_val_score\n",
    "from sklearn.metrics import classification_report\n",
    "from sklearn.model_selection import StratifiedKFold\n",
    "\n",
    "# Function to perform training with giniIndex.\n",
    "model = RandomForestClassifier(n_estimators = 10, criterion = 'entropy')\n",
    "\n",
    "model.fit(X_train, y_train)\n",
    "y_pred = model.predict(X_test)\n",
    "print(\"Predicted values:\", y_pred)\n",
    "print(\"First 100 predicted values: \", y_pred[:100])\n",
    "\n",
    "k_fold = cross_val_score(estimator = model, X = X_train, y = y_train, cv = 5)\n",
    "print(\"k_fold : \", k_fold.mean())\n",
    "print(\"Confusion Matrix: \", confusion_matrix(y_test, y_pred))\n",
    "print (\"Accuracy : \", accuracy_score(y_test,y_pred)*100)\n",
    "print(\"Report : \", classification_report(y_test, y_pred))\n",
    "print(\"ROC-AUC : \", roc_auc_score(y_test, y_pred))\n",
    "\n",
    "fpr, tpr, _ = roc_curve(y_test, y_pred)\n",
    "plt.clf()\n",
    "plt.plot(fpr, tpr)\n",
    "plt.xlabel('FPR')\n",
    "plt.ylabel('TPR')\n",
    "plt.title('ROC curve - Random Forest Classification')\n",
    "plt.show()"
   ]
  },
  {
   "cell_type": "code",
   "execution_count": null,
   "metadata": {},
   "outputs": [],
   "source": [
    "#Not executing any extensive parameter tuning due to time constraints on computational time complexity.\n",
    "'''\n",
    "#Random Forest Classification - 2\n",
    "#Using the Grid Search Method\n",
    "from sklearn.ensemble import RandomForestClassifier\n",
    "from sklearn.model_selection import GridSearchCV, StratifiedKFold\n",
    "\n",
    "from matplotlib.pyplot import *\n",
    "from sklearn.metrics import confusion_matrix\n",
    "from sklearn.metrics import accuracy_score, f1_score\n",
    "from sklearn.metrics import roc_curve, roc_auc_score\n",
    "from sklearn.model_selection import cross_val_score\n",
    "from sklearn.metrics import classification_report\n",
    "\n",
    "#Assign different values for the hyperparameter\n",
    "params = {\n",
    "    'n_estimators': [10, 50],\n",
    "    'max_depth': [None, 10, 20, 30],\n",
    "    'min_samples_split': [2, 5, 10],\n",
    "    'min_samples_leaf': [1, 2, 5]\n",
    "}\n",
    "\n",
    "# Function to perform training with giniIndex.\n",
    "model = GridSearchCV(RandomForestClassifier(random_state=10), param_grid=params, \n",
    "                cv=StratifiedKFold(n_splits=5, shuffle=True, random_state=10),\n",
    "                scoring='f1')\n",
    "\n",
    "model.fit(X_train, y_train)\n",
    "\n",
    "print(clf.best_params_)\n",
    "\n",
    "y_pred = model.predict(X_test)\n",
    "print(\"Predicted values:\", y_pred)\n",
    "print(\"First 100 predicted values: \", y_pred[:100])\n",
    "\n",
    "\n",
    "k_fold_MAE = cross_val_score(estimator = model, X = X_train, y = y_train, cv = 5)\n",
    "print(\"k_fold_MAE : \", k_fold_MAE.mean())\n",
    "print(\"Confusion Matrix: \", confusion_matrix(y_test, y_pred))\n",
    "print (\"Accuracy : \", accuracy_score(y_test,y_pred)*100)\n",
    "print(\"Report : \", classification_report(y_test, y_pred))\n",
    "print(\"ROC-AUC : \", roc_auc_score(y_test, y_pred))\n",
    "\n",
    "fpr, tpr, _ = roc_curve(y_test, y_pred)\n",
    "plt.clf()\n",
    "plt.plot(fpr, tpr)\n",
    "plt.xlabel('FPR')\n",
    "plt.ylabel('TPR')\n",
    "plt.title('ROC curve - Random Forest Classification')\n",
    "plt.show()\n",
    "'''"
   ]
  },
  {
   "cell_type": "code",
   "execution_count": 42,
   "metadata": {},
   "outputs": [
    {
     "name": "stdout",
     "output_type": "stream",
     "text": [
      "Predicted values: [0 0 0 ... 0 0 0]\n",
      "First 100 predicted values:  [0 0 0 1 0 1 0 0 0 0 0 0 0 1 0 0 0 0 0 0 1 1 0 0 0 0 0 0 1 0 0 0 1 0 0 0 0\n",
      " 0 0 0 0 0 1 0 1 0 0 0 0 0 0 0 0 0 0 0 0 0 0 0 1 0 0 1 0 0 0 0 0 0 1 1 1 0\n",
      " 0 0 0 1 0 1 0 0 0 0 0 0 0 0 0 0 0 0 0 0 0 0 0 0 0 0]\n",
      "k_fold_MAE :  0.8559182257002032\n",
      "Confusion Matrix:  [[73872  6233]\n",
      " [ 9151 16043]]\n",
      "Accuracy :  85.39017464553321\n",
      "Report :                precision    recall  f1-score   support\n",
      "\n",
      "           0       0.89      0.92      0.91     80105\n",
      "           1       0.72      0.64      0.68     25194\n",
      "\n",
      "    accuracy                           0.85    105299\n",
      "   macro avg       0.80      0.78      0.79    105299\n",
      "weighted avg       0.85      0.85      0.85    105299\n",
      "\n",
      "ROC-AUC :  0.7794841120973154\n"
     ]
    },
    {
     "data": {
      "image/png": "[encoded data removed]",
      "text/plain": [
       "<Figure size 432x288 with 1 Axes>"
      ]
     },
     "metadata": {},
     "output_type": "display_data"
    }
   ],
   "source": [
    "#Logistic Regression Classification\n",
    "from sklearn.linear_model import LogisticRegression\n",
    "\n",
    "from matplotlib.pyplot import *\n",
    "from sklearn.metrics import confusion_matrix\n",
    "from sklearn.metrics import accuracy_score\n",
    "from sklearn.metrics import roc_curve, roc_auc_score\n",
    "from sklearn.model_selection import cross_val_score\n",
    "from sklearn.metrics import classification_report\n",
    "\n",
    "# Function to perform training with giniIndex.\n",
    "model = LogisticRegression(random_state = 0)\n",
    "\n",
    "model.fit(X_train, y_train)\n",
    "y_pred = model.predict(X_test)\n",
    "print(\"Predicted values:\", y_pred)\n",
    "print(\"First 100 predicted values: \", y_pred[:100])\n",
    "\n",
    "k_fold = cross_val_score(estimator = model, X = X_train, y = y_train, cv = 5)\n",
    "print(\"k_fold : \", k_fold.mean())\n",
    "print(\"Confusion Matrix: \", confusion_matrix(y_test, y_pred))\n",
    "print (\"Accuracy : \", accuracy_score(y_test,y_pred)*100)\n",
    "print(\"Report : \", classification_report(y_test, y_pred))\n",
    "print(\"ROC-AUC : \", roc_auc_score(y_test, y_pred))\n",
    "\n",
    "fpr, tpr, _ = roc_curve(y_test, y_pred)\n",
    "plt.clf()\n",
    "plt.plot(fpr, tpr)\n",
    "plt.xlabel('FPR')\n",
    "plt.ylabel('TPR')\n",
    "plt.title('ROC curve - Logistic Regression Classification')\n",
    "plt.show()"
   ]
  },
  {
   "cell_type": "code",
   "execution_count": 51,
   "metadata": {
    "scrolled": true
   },
   "outputs": [
    {
     "name": "stderr",
     "output_type": "stream",
     "text": [
      "D:\\Installation_deck\\AnaConDa\\lib\\site-packages\\xgboost\\sklearn.py:1146: UserWarning: The use of label encoder in XGBClassifier is deprecated and will be removed in a future release. To remove this warning, do the following: 1) Pass option use_label_encoder=False when constructing XGBClassifier object; and 2) Encode your labels (y) as integers starting with 0, i.e. 0, 1, 2, ..., [num_class - 1].\n",
      "  warnings.warn(label_encoder_deprecation_msg, UserWarning)\n"
     ]
    },
    {
     "name": "stdout",
     "output_type": "stream",
     "text": [
      "[23:57:14] WARNING: C:/Users/Administrator/workspace/xgboost-win64_release_1.4.0/src/learner.cc:1095: Starting in XGBoost 1.3.0, the default evaluation metric used with the objective 'binary:logistic' was changed from 'error' to 'logloss'. Explicitly set eval_metric if you'd like to restore the old behavior.\n"
     ]
    },
    {
     "name": "stderr",
     "output_type": "stream",
     "text": [
      "D:\\Installation_deck\\AnaConDa\\lib\\site-packages\\xgboost\\data.py:112: UserWarning: Use subset (sliced data) of np.ndarray is not recommended because it will generate extra copies and increase memory consumption\n",
      "  warnings.warn(\n"
     ]
    },
    {
     "name": "stdout",
     "output_type": "stream",
     "text": [
      "Predicted values: [0 0 1 ... 0 0 0]\n",
      "First 100 predicted values:  [0 0 1 0 0 0 0 1 0 0 0 0 0 0 0 0 1 0 0 1 0 1 0 0 0 0 0 0 0 0 0 0 0 0 1 0 0\n",
      " 1 1 0 0 0 0 1 0 0 0 0 0 0 1 1 0 0 0 0 1 0 1 0 0 0 0 0 1 0 0 0 0 0 1 0 0 1\n",
      " 1 0 0 0 1 0 0 1 1 1 0 0 0 0 0 0 0 0 0 0 1 1 0 0 0 0]\n"
     ]
    },
    {
     "name": "stderr",
     "output_type": "stream",
     "text": [
      "D:\\Installation_deck\\AnaConDa\\lib\\site-packages\\xgboost\\sklearn.py:1146: UserWarning: The use of label encoder in XGBClassifier is deprecated and will be removed in a future release. To remove this warning, do the following: 1) Pass option use_label_encoder=False when constructing XGBClassifier object; and 2) Encode your labels (y) as integers starting with 0, i.e. 0, 1, 2, ..., [num_class - 1].\n",
      "  warnings.warn(label_encoder_deprecation_msg, UserWarning)\n"
     ]
    },
    {
     "name": "stdout",
     "output_type": "stream",
     "text": [
      "[23:58:35] WARNING: C:/Users/Administrator/workspace/xgboost-win64_release_1.4.0/src/learner.cc:1095: Starting in XGBoost 1.3.0, the default evaluation metric used with the objective 'binary:logistic' was changed from 'error' to 'logloss'. Explicitly set eval_metric if you'd like to restore the old behavior.\n",
      "[23:59:37] WARNING: C:/Users/Administrator/workspace/xgboost-win64_release_1.4.0/src/learner.cc:1095: Starting in XGBoost 1.3.0, the default evaluation metric used with the objective 'binary:logistic' was changed from 'error' to 'logloss'. Explicitly set eval_metric if you'd like to restore the old behavior.\n",
      "[00:00:37] WARNING: C:/Users/Administrator/workspace/xgboost-win64_release_1.4.0/src/learner.cc:1095: Starting in XGBoost 1.3.0, the default evaluation metric used with the objective 'binary:logistic' was changed from 'error' to 'logloss'. Explicitly set eval_metric if you'd like to restore the old behavior.\n",
      "[00:01:39] WARNING: C:/Users/Administrator/workspace/xgboost-win64_release_1.4.0/src/learner.cc:1095: Starting in XGBoost 1.3.0, the default evaluation metric used with the objective 'binary:logistic' was changed from 'error' to 'logloss'. Explicitly set eval_metric if you'd like to restore the old behavior.\n",
      "[00:02:39] WARNING: C:/Users/Administrator/workspace/xgboost-win64_release_1.4.0/src/learner.cc:1095: Starting in XGBoost 1.3.0, the default evaluation metric used with the objective 'binary:logistic' was changed from 'error' to 'logloss'. Explicitly set eval_metric if you'd like to restore the old behavior.\n",
      "k_fold :  0.9130064445067869\n",
      "Confusion Matrix:  [[62494  1917]\n",
      " [ 5153 14676]]\n",
      "Accuracy :  91.60731244064577\n",
      "Report :                precision    recall  f1-score   support\n",
      "\n",
      "           0       0.92      0.97      0.95     64411\n",
      "           1       0.88      0.74      0.81     19829\n",
      "\n",
      "    accuracy                           0.92     84240\n",
      "   macro avg       0.90      0.86      0.88     84240\n",
      "weighted avg       0.91      0.92      0.91     84240\n",
      "\n",
      "ROC-AUC :  0.8551830490198425\n"
     ]
    },
    {
     "data": {
      "image/png": "[encoded data removed]",
      "text/plain": [
       "<Figure size 432x288 with 1 Axes>"
      ]
     },
     "metadata": {},
     "output_type": "display_data"
    }
   ],
   "source": [
    "#Gradient Boosting Classification\n",
    "from xgboost import XGBClassifier\n",
    "\n",
    "from matplotlib.pyplot import *\n",
    "from sklearn.metrics import confusion_matrix\n",
    "from sklearn.metrics import accuracy_score\n",
    "from sklearn.metrics import roc_curve, roc_auc_score\n",
    "from sklearn.model_selection import cross_val_score\n",
    "from sklearn.metrics import classification_report\n",
    "\n",
    "# Function to perform training with giniIndex.\n",
    "model = XGBClassifier()\n",
    "\n",
    "model.fit(X_train, y_train)\n",
    "y_pred = model.predict(X_test)\n",
    "print(\"Predicted values:\", y_pred)\n",
    "print(\"First 100 predicted values: \", y_pred[:100])\n",
    "\n",
    "k_fold = cross_val_score(estimator = model, X = X_train, y = y_train, cv = 5)\n",
    "print(\"k_fold : \", k_fold.mean())\n",
    "print(\"Confusion Matrix: \", confusion_matrix(y_test, y_pred))\n",
    "print (\"Accuracy : \", accuracy_score(y_test,y_pred)*100)\n",
    "print(\"Report : \", classification_report(y_test, y_pred))\n",
    "print(\"ROC-AUC : \", roc_auc_score(y_test, y_pred))\n",
    "\n",
    "fpr, tpr, _ = roc_curve(y_test, y_pred)\n",
    "plt.clf()\n",
    "plt.plot(fpr, tpr)\n",
    "plt.xlabel('FPR')\n",
    "plt.ylabel('TPR')\n",
    "plt.title('ROC curve - Gradient Boosting Classification')\n",
    "plt.show()\n",
    "\n",
    "#Finalizing the XGB Classification Model as the preferred model - due to its high score\n",
    "final_model = model"
   ]
  },
  {
   "cell_type": "code",
   "execution_count": null,
   "metadata": {},
   "outputs": [],
   "source": [
    "#Support Vector Machines Classification\n",
    "from sklearn.svm import SVC\n",
    "\n",
    "from matplotlib.pyplot import *\n",
    "from sklearn.metrics import confusion_matrix\n",
    "from sklearn.metrics import accuracy_score\n",
    "from sklearn.metrics import roc_curve, roc_auc_score\n",
    "from sklearn.model_selection import cross_val_score\n",
    "from sklearn.metrics import classification_report\n",
    "\n",
    "# Function to perform training with giniIndex.\n",
    "model = SVC(kernel = 'linear')\n",
    "model.fit(X_train, y_train)\n",
    "y_pred = model.predict(X_test)\n",
    "print(\"Predicted values:\", y_pred)\n",
    "print(\"First 100 predicted values: \", y_pred[:100])\n",
    "\n",
    "k_fold = cross_val_score(estimator = model, X = X_train, y = y_train, cv = 5)\n",
    "print(\"k_fold : \", k_fold.mean())\n",
    "print(\"Confusion Matrix: \", confusion_matrix(y_test, y_pred))\n",
    "print (\"Accuracy : \", accuracy_score(y_test,y_pred)*100)\n",
    "print(\"Report : \", classification_report(y_test, y_pred))\n",
    "print(\"ROC-AUC : \", roc_auc_score(y_test, y_pred))\n",
    "\n",
    "fpr, tpr, _ = roc_curve(y_test, y_pred)\n",
    "plt.clf()\n",
    "plt.plot(fpr, tpr)\n",
    "plt.xlabel('FPR')\n",
    "plt.ylabel('TPR')\n",
    "plt.title('ROC curve - Support Vector Machines Classification')\n",
    "plt.show()"
   ]
  },
  {
   "cell_type": "code",
   "execution_count": null,
   "metadata": {},
   "outputs": [],
   "source": [
    "#Finalizing the XGB Classification Model"
   ]
  },
  {
   "cell_type": "code",
   "execution_count": null,
   "metadata": {},
   "outputs": [],
   "source": [
    "\n"
   ]
  },
  {
   "cell_type": "code",
   "execution_count": null,
   "metadata": {},
   "outputs": [],
   "source": []
  },
  {
   "cell_type": "markdown",
   "metadata": {},
   "source": [
    "# Apply model on the Real Test Dataset"
   ]
  },
  {
   "cell_type": "code",
   "execution_count": 52,
   "metadata": {},
   "outputs": [],
   "source": [
    "import pickle\n",
    "\n",
    "pkl_filename = 'saved_model.pkl'\n",
    "\n",
    "#Saving the model\n",
    "with open(pkl_filename, 'wb') as file:\n",
    "    pickle.dump(final_model, file)\n",
    "    "
   ]
  },
  {
   "cell_type": "code",
   "execution_count": 72,
   "metadata": {},
   "outputs": [
    {
     "data": {
      "text/plain": [
       "XGBClassifier(base_score=0.5, booster='gbtree', colsample_bylevel=1,\n",
       "              colsample_bynode=1, colsample_bytree=1, gamma=0, gpu_id=-1,\n",
       "              importance_type='gain', interaction_constraints='',\n",
       "              learning_rate=0.300000012, max_delta_step=0, max_depth=6,\n",
       "              min_child_weight=1, missing=nan, monotone_constraints='()',\n",
       "              n_estimators=100, n_jobs=4, num_parallel_tree=1, random_state=0,\n",
       "              reg_alpha=0, reg_lambda=1, scale_pos_weight=1, subsample=1,\n",
       "              tree_method='exact', validate_parameters=1, verbosity=None)"
      ]
     },
     "execution_count": 72,
     "metadata": {},
     "output_type": "execute_result"
    }
   ],
   "source": [
    "#loading the model\n",
    "import pickle\n",
    "\n",
    "pkl_filename = 'saved_model.pkl'\n",
    "\n",
    "with open(pkl_filename, 'rb') as file:\n",
    "    pickled_model = pickle.load(file)\n",
    "    \n",
    "pickled_model"
   ]
  },
  {
   "cell_type": "code",
   "execution_count": 37,
   "metadata": {},
   "outputs": [],
   "source": [
    "#pickled_model = final_model"
   ]
  },
  {
   "cell_type": "code",
   "execution_count": 73,
   "metadata": {},
   "outputs": [
    {
     "name": "stdout",
     "output_type": "stream",
     "text": [
      "<class 'pandas.core.frame.DataFrame'>\n",
      "RangeIndex: 354951 entries, 0 to 354950\n",
      "Data columns (total 44 columns):\n",
      " #   Column                       Non-Null Count   Dtype  \n",
      "---  ------                       --------------   -----  \n",
      " 0   member_id                    354951 non-null  int64  \n",
      " 1   loan_amnt                    354951 non-null  int64  \n",
      " 2   funded_amnt                  354951 non-null  int64  \n",
      " 3   funded_amnt_inv              354951 non-null  float64\n",
      " 4   term                         354951 non-null  object \n",
      " 5   batch_enrolled               309352 non-null  object \n",
      " 6   int_rate                     354951 non-null  float64\n",
      " 7   grade                        354951 non-null  object \n",
      " 8   sub_grade                    354951 non-null  object \n",
      " 9   emp_title                    334322 non-null  object \n",
      " 10  emp_length                   337017 non-null  object \n",
      " 11  home_ownership               354951 non-null  object \n",
      " 12  annual_inc                   354950 non-null  float64\n",
      " 13  verification_status          354951 non-null  object \n",
      " 14  pymnt_plan                   354951 non-null  object \n",
      " 15  desc                         50181 non-null   object \n",
      " 16  purpose                      354951 non-null  object \n",
      " 17  title                        354889 non-null  object \n",
      " 18  zip_code                     354951 non-null  object \n",
      " 19  addr_state                   354951 non-null  object \n",
      " 20  dti                          354951 non-null  float64\n",
      " 21  delinq_2yrs                  354938 non-null  float64\n",
      " 22  inq_last_6mths               354938 non-null  float64\n",
      " 23  mths_since_last_delinq       173193 non-null  float64\n",
      " 24  mths_since_last_record       54930 non-null   float64\n",
      " 25  open_acc                     354938 non-null  float64\n",
      " 26  pub_rec                      354938 non-null  float64\n",
      " 27  revol_bal                    354951 non-null  int64  \n",
      " 28  revol_util                   354736 non-null  float64\n",
      " 29  total_acc                    354938 non-null  float64\n",
      " 30  initial_list_status          354951 non-null  object \n",
      " 31  total_rec_int                354951 non-null  float64\n",
      " 32  total_rec_late_fee           354951 non-null  float64\n",
      " 33  recoveries                   354951 non-null  float64\n",
      " 34  collection_recovery_fee      354951 non-null  float64\n",
      " 35  collections_12_mths_ex_med   354901 non-null  float64\n",
      " 36  mths_since_last_major_derog  88723 non-null   float64\n",
      " 37  application_type             354951 non-null  object \n",
      " 38  verification_status_joint    206 non-null     object \n",
      " 39  last_week_pay                354951 non-null  object \n",
      " 40  acc_now_delinq               354938 non-null  float64\n",
      " 41  tot_coll_amt                 326679 non-null  float64\n",
      " 42  tot_cur_bal                  326679 non-null  float64\n",
      " 43  total_rev_hi_lim             326679 non-null  float64\n",
      "dtypes: float64(22), int64(4), object(18)\n",
      "memory usage: 119.2+ MB\n"
     ]
    }
   ],
   "source": [
    "real_test_df = pd.read_csv('test_indessa.csv')\n",
    "len_real_test = len(real_test_df)\n",
    "real_test_df.info()"
   ]
  },
  {
   "cell_type": "code",
   "execution_count": 74,
   "metadata": {},
   "outputs": [
    {
     "name": "stdout",
     "output_type": "stream",
     "text": [
      "Your selected dataframe has 44 columns.\n",
      "There are 21 columns that have missing values.\n"
     ]
    },
    {
     "data": {
      "text/html": [
       "<div>\n",
       "<style scoped>\n",
       "    .dataframe tbody tr th:only-of-type {\n",
       "        vertical-align: middle;\n",
       "    }\n",
       "\n",
       "    .dataframe tbody tr th {\n",
       "        vertical-align: top;\n",
       "    }\n",
       "\n",
       "    .dataframe thead th {\n",
       "        text-align: right;\n",
       "    }\n",
       "</style>\n",
       "<table border=\"1\" class=\"dataframe\">\n",
       "  <thead>\n",
       "    <tr style=\"text-align: right;\">\n",
       "      <th></th>\n",
       "      <th>Missing Values</th>\n",
       "      <th>% of Total Values</th>\n",
       "    </tr>\n",
       "  </thead>\n",
       "  <tbody>\n",
       "    <tr>\n",
       "      <th>verification_status_joint</th>\n",
       "      <td>354745</td>\n",
       "      <td>99.9</td>\n",
       "    </tr>\n",
       "    <tr>\n",
       "      <th>desc</th>\n",
       "      <td>304770</td>\n",
       "      <td>85.9</td>\n",
       "    </tr>\n",
       "    <tr>\n",
       "      <th>mths_since_last_record</th>\n",
       "      <td>300021</td>\n",
       "      <td>84.5</td>\n",
       "    </tr>\n",
       "    <tr>\n",
       "      <th>mths_since_last_major_derog</th>\n",
       "      <td>266228</td>\n",
       "      <td>75.0</td>\n",
       "    </tr>\n",
       "    <tr>\n",
       "      <th>mths_since_last_delinq</th>\n",
       "      <td>181758</td>\n",
       "      <td>51.2</td>\n",
       "    </tr>\n",
       "    <tr>\n",
       "      <th>batch_enrolled</th>\n",
       "      <td>45599</td>\n",
       "      <td>12.8</td>\n",
       "    </tr>\n",
       "    <tr>\n",
       "      <th>tot_cur_bal</th>\n",
       "      <td>28272</td>\n",
       "      <td>8.0</td>\n",
       "    </tr>\n",
       "    <tr>\n",
       "      <th>tot_coll_amt</th>\n",
       "      <td>28272</td>\n",
       "      <td>8.0</td>\n",
       "    </tr>\n",
       "    <tr>\n",
       "      <th>total_rev_hi_lim</th>\n",
       "      <td>28272</td>\n",
       "      <td>8.0</td>\n",
       "    </tr>\n",
       "    <tr>\n",
       "      <th>emp_title</th>\n",
       "      <td>20629</td>\n",
       "      <td>5.8</td>\n",
       "    </tr>\n",
       "    <tr>\n",
       "      <th>emp_length</th>\n",
       "      <td>17934</td>\n",
       "      <td>5.1</td>\n",
       "    </tr>\n",
       "    <tr>\n",
       "      <th>revol_util</th>\n",
       "      <td>215</td>\n",
       "      <td>0.1</td>\n",
       "    </tr>\n",
       "    <tr>\n",
       "      <th>title</th>\n",
       "      <td>62</td>\n",
       "      <td>0.0</td>\n",
       "    </tr>\n",
       "    <tr>\n",
       "      <th>collections_12_mths_ex_med</th>\n",
       "      <td>50</td>\n",
       "      <td>0.0</td>\n",
       "    </tr>\n",
       "    <tr>\n",
       "      <th>inq_last_6mths</th>\n",
       "      <td>13</td>\n",
       "      <td>0.0</td>\n",
       "    </tr>\n",
       "    <tr>\n",
       "      <th>pub_rec</th>\n",
       "      <td>13</td>\n",
       "      <td>0.0</td>\n",
       "    </tr>\n",
       "    <tr>\n",
       "      <th>total_acc</th>\n",
       "      <td>13</td>\n",
       "      <td>0.0</td>\n",
       "    </tr>\n",
       "    <tr>\n",
       "      <th>delinq_2yrs</th>\n",
       "      <td>13</td>\n",
       "      <td>0.0</td>\n",
       "    </tr>\n",
       "    <tr>\n",
       "      <th>acc_now_delinq</th>\n",
       "      <td>13</td>\n",
       "      <td>0.0</td>\n",
       "    </tr>\n",
       "    <tr>\n",
       "      <th>open_acc</th>\n",
       "      <td>13</td>\n",
       "      <td>0.0</td>\n",
       "    </tr>\n",
       "    <tr>\n",
       "      <th>annual_inc</th>\n",
       "      <td>1</td>\n",
       "      <td>0.0</td>\n",
       "    </tr>\n",
       "  </tbody>\n",
       "</table>\n",
       "</div>"
      ],
      "text/plain": [
       "                             Missing Values  % of Total Values\n",
       "verification_status_joint            354745               99.9\n",
       "desc                                 304770               85.9\n",
       "mths_since_last_record               300021               84.5\n",
       "mths_since_last_major_derog          266228               75.0\n",
       "mths_since_last_delinq               181758               51.2\n",
       "batch_enrolled                        45599               12.8\n",
       "tot_cur_bal                           28272                8.0\n",
       "tot_coll_amt                          28272                8.0\n",
       "total_rev_hi_lim                      28272                8.0\n",
       "emp_title                             20629                5.8\n",
       "emp_length                            17934                5.1\n",
       "revol_util                              215                0.1\n",
       "title                                    62                0.0\n",
       "collections_12_mths_ex_med               50                0.0\n",
       "inq_last_6mths                           13                0.0\n",
       "pub_rec                                  13                0.0\n",
       "total_acc                                13                0.0\n",
       "delinq_2yrs                              13                0.0\n",
       "acc_now_delinq                           13                0.0\n",
       "open_acc                                 13                0.0\n",
       "annual_inc                                1                0.0"
      ]
     },
     "execution_count": 74,
     "metadata": {},
     "output_type": "execute_result"
    }
   ],
   "source": [
    "missing_values_table(real_test_df).head(50)"
   ]
  },
  {
   "cell_type": "code",
   "execution_count": 75,
   "metadata": {},
   "outputs": [],
   "source": [
    "#Drop all the columns that are dropped for the training dataset\n",
    "d_list = ['member_id', 'loan_amnt', 'funded_amnt', 'int_rate', 'annual_inc',\n",
    "       'dti', 'delinq_2yrs', 'inq_last_6mths', 'open_acc', 'pub_rec',\n",
    "       'revol_bal', 'revol_util', 'total_rec_int', 'total_rec_late_fee',\n",
    "       'recoveries', 'collection_recovery_fee', 'collections_12_mths_ex_med',\n",
    "       'acc_now_delinq', 'tot_coll_amt', 'tot_cur_bal']\n",
    "\n",
    "real_test_df = real_test_df.drop(real_test_df.columns.difference(d_list), axis=1)"
   ]
  },
  {
   "cell_type": "code",
   "execution_count": 76,
   "metadata": {},
   "outputs": [
    {
     "name": "stdout",
     "output_type": "stream",
     "text": [
      "Your selected dataframe has 20 columns.\n",
      "There are 10 columns that have missing values.\n"
     ]
    },
    {
     "data": {
      "text/html": [
       "<div>\n",
       "<style scoped>\n",
       "    .dataframe tbody tr th:only-of-type {\n",
       "        vertical-align: middle;\n",
       "    }\n",
       "\n",
       "    .dataframe tbody tr th {\n",
       "        vertical-align: top;\n",
       "    }\n",
       "\n",
       "    .dataframe thead th {\n",
       "        text-align: right;\n",
       "    }\n",
       "</style>\n",
       "<table border=\"1\" class=\"dataframe\">\n",
       "  <thead>\n",
       "    <tr style=\"text-align: right;\">\n",
       "      <th></th>\n",
       "      <th>Missing Values</th>\n",
       "      <th>% of Total Values</th>\n",
       "    </tr>\n",
       "  </thead>\n",
       "  <tbody>\n",
       "    <tr>\n",
       "      <th>tot_coll_amt</th>\n",
       "      <td>28272</td>\n",
       "      <td>8.0</td>\n",
       "    </tr>\n",
       "    <tr>\n",
       "      <th>tot_cur_bal</th>\n",
       "      <td>28272</td>\n",
       "      <td>8.0</td>\n",
       "    </tr>\n",
       "    <tr>\n",
       "      <th>revol_util</th>\n",
       "      <td>215</td>\n",
       "      <td>0.1</td>\n",
       "    </tr>\n",
       "    <tr>\n",
       "      <th>collections_12_mths_ex_med</th>\n",
       "      <td>50</td>\n",
       "      <td>0.0</td>\n",
       "    </tr>\n",
       "    <tr>\n",
       "      <th>delinq_2yrs</th>\n",
       "      <td>13</td>\n",
       "      <td>0.0</td>\n",
       "    </tr>\n",
       "    <tr>\n",
       "      <th>inq_last_6mths</th>\n",
       "      <td>13</td>\n",
       "      <td>0.0</td>\n",
       "    </tr>\n",
       "    <tr>\n",
       "      <th>open_acc</th>\n",
       "      <td>13</td>\n",
       "      <td>0.0</td>\n",
       "    </tr>\n",
       "    <tr>\n",
       "      <th>pub_rec</th>\n",
       "      <td>13</td>\n",
       "      <td>0.0</td>\n",
       "    </tr>\n",
       "    <tr>\n",
       "      <th>acc_now_delinq</th>\n",
       "      <td>13</td>\n",
       "      <td>0.0</td>\n",
       "    </tr>\n",
       "    <tr>\n",
       "      <th>annual_inc</th>\n",
       "      <td>1</td>\n",
       "      <td>0.0</td>\n",
       "    </tr>\n",
       "  </tbody>\n",
       "</table>\n",
       "</div>"
      ],
      "text/plain": [
       "                            Missing Values  % of Total Values\n",
       "tot_coll_amt                         28272                8.0\n",
       "tot_cur_bal                          28272                8.0\n",
       "revol_util                             215                0.1\n",
       "collections_12_mths_ex_med              50                0.0\n",
       "delinq_2yrs                             13                0.0\n",
       "inq_last_6mths                          13                0.0\n",
       "open_acc                                13                0.0\n",
       "pub_rec                                 13                0.0\n",
       "acc_now_delinq                          13                0.0\n",
       "annual_inc                               1                0.0"
      ]
     },
     "execution_count": 76,
     "metadata": {},
     "output_type": "execute_result"
    }
   ],
   "source": [
    "missing_values_table(real_test_df).head(50)"
   ]
  },
  {
   "cell_type": "code",
   "execution_count": 94,
   "metadata": {},
   "outputs": [
    {
     "name": "stdout",
     "output_type": "stream",
     "text": [
      "<class 'pandas.core.frame.DataFrame'>\n",
      "RangeIndex: 354951 entries, 0 to 354950\n",
      "Data columns (total 20 columns):\n",
      " #   Column                      Non-Null Count   Dtype  \n",
      "---  ------                      --------------   -----  \n",
      " 0   member_id                   354951 non-null  int64  \n",
      " 1   loan_amnt                   354951 non-null  int64  \n",
      " 2   funded_amnt                 354951 non-null  int64  \n",
      " 3   int_rate                    354951 non-null  float64\n",
      " 4   annual_inc                  354950 non-null  float64\n",
      " 5   dti                         354951 non-null  float64\n",
      " 6   delinq_2yrs                 354938 non-null  float64\n",
      " 7   inq_last_6mths              354938 non-null  float64\n",
      " 8   open_acc                    354938 non-null  float64\n",
      " 9   pub_rec                     354938 non-null  float64\n",
      " 10  revol_bal                   354951 non-null  int64  \n",
      " 11  revol_util                  354736 non-null  float64\n",
      " 12  total_rec_int               354951 non-null  float64\n",
      " 13  total_rec_late_fee          354951 non-null  float64\n",
      " 14  recoveries                  354951 non-null  float64\n",
      " 15  collection_recovery_fee     354951 non-null  float64\n",
      " 16  collections_12_mths_ex_med  354901 non-null  float64\n",
      " 17  acc_now_delinq              354938 non-null  float64\n",
      " 18  tot_coll_amt                326679 non-null  float64\n",
      " 19  tot_cur_bal                 326679 non-null  float64\n",
      "dtypes: float64(16), int64(4)\n",
      "memory usage: 54.2 MB\n"
     ]
    }
   ],
   "source": [
    "real_test_df.info()"
   ]
  },
  {
   "cell_type": "code",
   "execution_count": 95,
   "metadata": {},
   "outputs": [],
   "source": [
    "real_test_df_split_1 = real_test_df[:100000]\n",
    "real_test_df_split_2 = real_test_df[100000:200000]\n",
    "real_test_df_split_3 = real_test_df[200000:300000]\n",
    "real_test_df_split_4 = real_test_df[300000:]"
   ]
  },
  {
   "cell_type": "code",
   "execution_count": 96,
   "metadata": {},
   "outputs": [
    {
     "name": "stdout",
     "output_type": "stream",
     "text": [
      "(100000, 20)\n",
      "(100000, 20)\n",
      "(100000, 20)\n",
      "(54951, 20)\n"
     ]
    }
   ],
   "source": [
    "print(real_test_df_split_1.shape)\n",
    "print(real_test_df_split_2.shape)\n",
    "print(real_test_df_split_3.shape)\n",
    "print(real_test_df_split_4.shape)"
   ]
  },
  {
   "cell_type": "code",
   "execution_count": null,
   "metadata": {},
   "outputs": [],
   "source": []
  },
  {
   "cell_type": "code",
   "execution_count": 97,
   "metadata": {},
   "outputs": [],
   "source": [
    "import csv\n",
    "\n",
    "with open('final_submission.csv', 'w', newline='', encoding='utf-8') as csv_file:\n",
    "    csv_writer = csv.writer(csv_file)\n",
    "    csv_writer.writerow(['member_id', 'loan_status'])\n",
    "    csv_file.close()\n",
    "    \n",
    "with open('final_submission.csv', 'a', newline='', encoding='utf-8') as csv_file:\n",
    "    csv_writer = csv.writer(csv_file)\n",
    "    \n",
    "    for i in range(0, len(real_test_df_split_1)):\n",
    "        #try: \n",
    "        fv = np.array(real_test_df_split_1.iloc[i]).reshape((1,-1))\n",
    "        loan_status_predicted = pickled_model.predict(fv)\n",
    "        #except: \n",
    "        #    loan_status_predicted = 2\n",
    "        csv_writer.writerow([real_test_df_split_1['member_id'].iloc[i], loan_status_predicted[0]])\n",
    "\n",
    "    csv_file.close()\n",
    "\n",
    "\n",
    "with open('final_submission.csv', 'a', newline='', encoding='utf-8') as csv_file:\n",
    "    csv_writer = csv.writer(csv_file)\n",
    "    \n",
    "    for i in range(0, len(real_test_df_split_2)):\n",
    "        #try: \n",
    "        fv = np.array(real_test_df_split_2.iloc[i]).reshape((1,-1))\n",
    "        loan_status_predicted = pickled_model.predict(fv)\n",
    "        #except: \n",
    "        #    loan_status_predicted = 2\n",
    "        csv_writer.writerow([real_test_df_split_2['member_id'].iloc[i], loan_status_predicted[0]])\n",
    "\n",
    "    csv_file.close()\n",
    "    \n",
    "with open('final_submission.csv', 'a', newline='', encoding='utf-8') as csv_file:\n",
    "    csv_writer = csv.writer(csv_file)\n",
    "    \n",
    "    for i in range(0, len(real_test_df_split_3)):\n",
    "        #try: \n",
    "        fv = np.array(real_test_df_split_3.iloc[i]).reshape((1,-1))\n",
    "        loan_status_predicted = pickled_model.predict(fv)\n",
    "        #except: \n",
    "        #    loan_status_predicted = 2\n",
    "        csv_writer.writerow([real_test_df_split_3['member_id'].iloc[i], loan_status_predicted[0]])\n",
    "\n",
    "    csv_file.close()\n",
    "    \n",
    "    \n",
    "with open('final_submission.csv', 'a', newline='', encoding='utf-8') as csv_file:\n",
    "    csv_writer = csv.writer(csv_file)\n",
    "    \n",
    "    for i in range(0, len(real_test_df_split_4)):\n",
    "        #try: \n",
    "        fv = np.array(real_test_df_split_4.iloc[i]).reshape((1,-1))\n",
    "        loan_status_predicted = pickled_model.predict(fv)\n",
    "        #except: \n",
    "        #    loan_status_predicted = 2\n",
    "        csv_writer.writerow([real_test_df_split_4['member_id'].iloc[i], loan_status_predicted[0]])\n",
    "\n",
    "    csv_file.close()"
   ]
  },
  {
   "cell_type": "code",
   "execution_count": null,
   "metadata": {},
   "outputs": [],
   "source": []
  },
  {
   "cell_type": "code",
   "execution_count": null,
   "metadata": {},
   "outputs": [],
   "source": []
  },
  {
   "cell_type": "markdown",
   "metadata": {},
   "source": [
    "Important Note:\n",
    "    \n",
    "    This the end for a base model, that is trained on the given dataset. \n",
    "    "
   ]
  },
  {
   "cell_type": "markdown",
   "metadata": {},
   "source": [
    "__\n",
    "\n",
    "    In real-time, there will much structured and enhanced versions at every phase.\n",
    "    \n",
    "    Also here, a combined train_indessa.csv and test_indessa.csv EDA is missing. Yet, it will be done in real-time work to ensure the importance of different categorical columns and values. \n",
    "    "
   ]
  },
  {
   "cell_type": "markdown",
   "metadata": {},
   "source": [
    "Real-time workflow enhancements: \n",
    "    \n",
    "    Choice of Libraries - Will go with a combination of different libs. Ex: A combination of Modin and Pandas for large data handling. \n",
    "    \n",
    "    EDA - In-depth Visualizations using Tableau, pandas_profiling. \n",
    "    \n",
    "    Data Pre-processing - (with 5 sub-stages), Feature Selection and Engineering - w.r.t. Correlation, Dependency, etc. and in-relevance as observed by the expertise in the field of Banking. \n",
    "    The categorical columns are not used much in the current model. They can be considered with meticulous observation and Encoding to make use of them. \n",
    "    \n",
    "    Data Modeling - Reflective - In a way to preserve details for future use. \n",
    "    \n",
    "    Model Enahncement - precisionate fine-tuning to the business-case (also, includes a try-on with ANN). \n",
    "    \n",
    "    Model Evaluation - Consideration of all major evaluation metrics like Confusion Matrix, ROC-AUC, KS Static, Cross-Validation methods etc.\n",
    "    \n",
    "    Real-time Testing and model enhancement"
   ]
  },
  {
   "cell_type": "code",
   "execution_count": null,
   "metadata": {},
   "outputs": [],
   "source": []
  },
  {
   "cell_type": "code",
   "execution_count": null,
   "metadata": {},
   "outputs": [],
   "source": [
    "#-------------------------------------------------------------------------------------------------------------------------------"
   ]
  },
  {
   "cell_type": "code",
   "execution_count": null,
   "metadata": {},
   "outputs": [],
   "source": []
  }
 ],
 "metadata": {
  "kernelspec": {
   "display_name": "Python 3",
   "language": "python",
   "name": "python3"
  },
  "language_info": {
   "codemirror_mode": {
    "name": "ipython",
    "version": 3
   },
   "file_extension": ".py",
   "mimetype": "text/x-python",
   "name": "python",
   "nbconvert_exporter": "python",
   "pygments_lexer": "ipython3",
   "version": "3.8.5"
  }
 },
 "nbformat": 4,
 "nbformat_minor": 4
}
